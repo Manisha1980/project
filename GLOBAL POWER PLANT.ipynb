{
 "cells": [
  {
   "cell_type": "code",
   "execution_count": 142,
   "id": "644e8c07",
   "metadata": {
    "scrolled": true
   },
   "outputs": [
    {
     "name": "stdout",
     "output_type": "stream",
     "text": [
      "CSV file saved to: C:/Users/ADMIN/Desktop/flip/data.csv\n"
     ]
    },
    {
     "data": {
      "text/html": [
       "<div>\n",
       "<style scoped>\n",
       "    .dataframe tbody tr th:only-of-type {\n",
       "        vertical-align: middle;\n",
       "    }\n",
       "\n",
       "    .dataframe tbody tr th {\n",
       "        vertical-align: top;\n",
       "    }\n",
       "\n",
       "    .dataframe thead th {\n",
       "        text-align: right;\n",
       "    }\n",
       "</style>\n",
       "<table border=\"1\" class=\"dataframe\">\n",
       "  <thead>\n",
       "    <tr style=\"text-align: right;\">\n",
       "      <th></th>\n",
       "      <th>country</th>\n",
       "      <th>country_long</th>\n",
       "      <th>name</th>\n",
       "      <th>gppd_idnr</th>\n",
       "      <th>capacity_mw</th>\n",
       "      <th>latitude</th>\n",
       "      <th>longitude</th>\n",
       "      <th>primary_fuel</th>\n",
       "      <th>other_fuel1</th>\n",
       "      <th>other_fuel2</th>\n",
       "      <th>...</th>\n",
       "      <th>year_of_capacity_data</th>\n",
       "      <th>generation_gwh_2013</th>\n",
       "      <th>generation_gwh_2014</th>\n",
       "      <th>generation_gwh_2015</th>\n",
       "      <th>generation_gwh_2016</th>\n",
       "      <th>generation_gwh_2017</th>\n",
       "      <th>generation_gwh_2018</th>\n",
       "      <th>generation_gwh_2019</th>\n",
       "      <th>generation_data_source</th>\n",
       "      <th>estimated_generation_gwh</th>\n",
       "    </tr>\n",
       "  </thead>\n",
       "  <tbody>\n",
       "    <tr>\n",
       "      <th>0</th>\n",
       "      <td>IND</td>\n",
       "      <td>India</td>\n",
       "      <td>ACME Solar Tower</td>\n",
       "      <td>WRI1020239</td>\n",
       "      <td>2.5</td>\n",
       "      <td>28.1839</td>\n",
       "      <td>73.2407</td>\n",
       "      <td>Solar</td>\n",
       "      <td>NaN</td>\n",
       "      <td>NaN</td>\n",
       "      <td>...</td>\n",
       "      <td>NaN</td>\n",
       "      <td>NaN</td>\n",
       "      <td>NaN</td>\n",
       "      <td>NaN</td>\n",
       "      <td>NaN</td>\n",
       "      <td>NaN</td>\n",
       "      <td>NaN</td>\n",
       "      <td>NaN</td>\n",
       "      <td>NaN</td>\n",
       "      <td>NaN</td>\n",
       "    </tr>\n",
       "    <tr>\n",
       "      <th>1</th>\n",
       "      <td>IND</td>\n",
       "      <td>India</td>\n",
       "      <td>ADITYA CEMENT WORKS</td>\n",
       "      <td>WRI1019881</td>\n",
       "      <td>98.0</td>\n",
       "      <td>24.7663</td>\n",
       "      <td>74.6090</td>\n",
       "      <td>Coal</td>\n",
       "      <td>NaN</td>\n",
       "      <td>NaN</td>\n",
       "      <td>...</td>\n",
       "      <td>NaN</td>\n",
       "      <td>NaN</td>\n",
       "      <td>NaN</td>\n",
       "      <td>NaN</td>\n",
       "      <td>NaN</td>\n",
       "      <td>NaN</td>\n",
       "      <td>NaN</td>\n",
       "      <td>NaN</td>\n",
       "      <td>NaN</td>\n",
       "      <td>NaN</td>\n",
       "    </tr>\n",
       "    <tr>\n",
       "      <th>2</th>\n",
       "      <td>IND</td>\n",
       "      <td>India</td>\n",
       "      <td>AES Saurashtra Windfarms</td>\n",
       "      <td>WRI1026669</td>\n",
       "      <td>39.2</td>\n",
       "      <td>21.9038</td>\n",
       "      <td>69.3732</td>\n",
       "      <td>Wind</td>\n",
       "      <td>NaN</td>\n",
       "      <td>NaN</td>\n",
       "      <td>...</td>\n",
       "      <td>NaN</td>\n",
       "      <td>NaN</td>\n",
       "      <td>NaN</td>\n",
       "      <td>NaN</td>\n",
       "      <td>NaN</td>\n",
       "      <td>NaN</td>\n",
       "      <td>NaN</td>\n",
       "      <td>NaN</td>\n",
       "      <td>NaN</td>\n",
       "      <td>NaN</td>\n",
       "    </tr>\n",
       "    <tr>\n",
       "      <th>3</th>\n",
       "      <td>IND</td>\n",
       "      <td>India</td>\n",
       "      <td>AGARTALA GT</td>\n",
       "      <td>IND0000001</td>\n",
       "      <td>135.0</td>\n",
       "      <td>23.8712</td>\n",
       "      <td>91.3602</td>\n",
       "      <td>Gas</td>\n",
       "      <td>NaN</td>\n",
       "      <td>NaN</td>\n",
       "      <td>...</td>\n",
       "      <td>2019.0</td>\n",
       "      <td>NaN</td>\n",
       "      <td>617.789264</td>\n",
       "      <td>843.747000</td>\n",
       "      <td>886.004428</td>\n",
       "      <td>663.774500</td>\n",
       "      <td>626.239128</td>\n",
       "      <td>NaN</td>\n",
       "      <td>Central Electricity Authority</td>\n",
       "      <td>NaN</td>\n",
       "    </tr>\n",
       "    <tr>\n",
       "      <th>4</th>\n",
       "      <td>IND</td>\n",
       "      <td>India</td>\n",
       "      <td>AKALTARA TPP</td>\n",
       "      <td>IND0000002</td>\n",
       "      <td>1800.0</td>\n",
       "      <td>21.9603</td>\n",
       "      <td>82.4091</td>\n",
       "      <td>Coal</td>\n",
       "      <td>Oil</td>\n",
       "      <td>NaN</td>\n",
       "      <td>...</td>\n",
       "      <td>2019.0</td>\n",
       "      <td>NaN</td>\n",
       "      <td>3035.550000</td>\n",
       "      <td>5916.370000</td>\n",
       "      <td>6243.000000</td>\n",
       "      <td>5385.579736</td>\n",
       "      <td>7279.000000</td>\n",
       "      <td>NaN</td>\n",
       "      <td>Central Electricity Authority</td>\n",
       "      <td>NaN</td>\n",
       "    </tr>\n",
       "    <tr>\n",
       "      <th>...</th>\n",
       "      <td>...</td>\n",
       "      <td>...</td>\n",
       "      <td>...</td>\n",
       "      <td>...</td>\n",
       "      <td>...</td>\n",
       "      <td>...</td>\n",
       "      <td>...</td>\n",
       "      <td>...</td>\n",
       "      <td>...</td>\n",
       "      <td>...</td>\n",
       "      <td>...</td>\n",
       "      <td>...</td>\n",
       "      <td>...</td>\n",
       "      <td>...</td>\n",
       "      <td>...</td>\n",
       "      <td>...</td>\n",
       "      <td>...</td>\n",
       "      <td>...</td>\n",
       "      <td>...</td>\n",
       "      <td>...</td>\n",
       "      <td>...</td>\n",
       "    </tr>\n",
       "    <tr>\n",
       "      <th>902</th>\n",
       "      <td>IND</td>\n",
       "      <td>India</td>\n",
       "      <td>YERMARUS TPP</td>\n",
       "      <td>IND0000513</td>\n",
       "      <td>1600.0</td>\n",
       "      <td>16.2949</td>\n",
       "      <td>77.3568</td>\n",
       "      <td>Coal</td>\n",
       "      <td>Oil</td>\n",
       "      <td>NaN</td>\n",
       "      <td>...</td>\n",
       "      <td>2019.0</td>\n",
       "      <td>NaN</td>\n",
       "      <td>NaN</td>\n",
       "      <td>0.994875</td>\n",
       "      <td>233.596650</td>\n",
       "      <td>865.400000</td>\n",
       "      <td>686.500000</td>\n",
       "      <td>NaN</td>\n",
       "      <td>Central Electricity Authority</td>\n",
       "      <td>NaN</td>\n",
       "    </tr>\n",
       "    <tr>\n",
       "      <th>903</th>\n",
       "      <td>IND</td>\n",
       "      <td>India</td>\n",
       "      <td>Yelesandra Solar Power Plant</td>\n",
       "      <td>WRI1026222</td>\n",
       "      <td>3.0</td>\n",
       "      <td>12.8932</td>\n",
       "      <td>78.1654</td>\n",
       "      <td>Solar</td>\n",
       "      <td>NaN</td>\n",
       "      <td>NaN</td>\n",
       "      <td>...</td>\n",
       "      <td>NaN</td>\n",
       "      <td>NaN</td>\n",
       "      <td>NaN</td>\n",
       "      <td>NaN</td>\n",
       "      <td>NaN</td>\n",
       "      <td>NaN</td>\n",
       "      <td>NaN</td>\n",
       "      <td>NaN</td>\n",
       "      <td>NaN</td>\n",
       "      <td>NaN</td>\n",
       "    </tr>\n",
       "    <tr>\n",
       "      <th>904</th>\n",
       "      <td>IND</td>\n",
       "      <td>India</td>\n",
       "      <td>Yelisirur wind power project</td>\n",
       "      <td>WRI1026776</td>\n",
       "      <td>25.5</td>\n",
       "      <td>15.2758</td>\n",
       "      <td>75.5811</td>\n",
       "      <td>Wind</td>\n",
       "      <td>NaN</td>\n",
       "      <td>NaN</td>\n",
       "      <td>...</td>\n",
       "      <td>NaN</td>\n",
       "      <td>NaN</td>\n",
       "      <td>NaN</td>\n",
       "      <td>NaN</td>\n",
       "      <td>NaN</td>\n",
       "      <td>NaN</td>\n",
       "      <td>NaN</td>\n",
       "      <td>NaN</td>\n",
       "      <td>NaN</td>\n",
       "      <td>NaN</td>\n",
       "    </tr>\n",
       "    <tr>\n",
       "      <th>905</th>\n",
       "      <td>IND</td>\n",
       "      <td>India</td>\n",
       "      <td>ZAWAR MINES</td>\n",
       "      <td>WRI1019901</td>\n",
       "      <td>80.0</td>\n",
       "      <td>24.3500</td>\n",
       "      <td>73.7477</td>\n",
       "      <td>Coal</td>\n",
       "      <td>NaN</td>\n",
       "      <td>NaN</td>\n",
       "      <td>...</td>\n",
       "      <td>NaN</td>\n",
       "      <td>NaN</td>\n",
       "      <td>NaN</td>\n",
       "      <td>NaN</td>\n",
       "      <td>NaN</td>\n",
       "      <td>NaN</td>\n",
       "      <td>NaN</td>\n",
       "      <td>NaN</td>\n",
       "      <td>NaN</td>\n",
       "      <td>NaN</td>\n",
       "    </tr>\n",
       "    <tr>\n",
       "      <th>906</th>\n",
       "      <td>IND</td>\n",
       "      <td>India</td>\n",
       "      <td>iEnergy Theni Wind Farm</td>\n",
       "      <td>WRI1026761</td>\n",
       "      <td>16.5</td>\n",
       "      <td>9.9344</td>\n",
       "      <td>77.4768</td>\n",
       "      <td>Wind</td>\n",
       "      <td>NaN</td>\n",
       "      <td>NaN</td>\n",
       "      <td>...</td>\n",
       "      <td>NaN</td>\n",
       "      <td>NaN</td>\n",
       "      <td>NaN</td>\n",
       "      <td>NaN</td>\n",
       "      <td>NaN</td>\n",
       "      <td>NaN</td>\n",
       "      <td>NaN</td>\n",
       "      <td>NaN</td>\n",
       "      <td>NaN</td>\n",
       "      <td>NaN</td>\n",
       "    </tr>\n",
       "  </tbody>\n",
       "</table>\n",
       "<p>907 rows × 27 columns</p>\n",
       "</div>"
      ],
      "text/plain": [
       "    country country_long                          name   gppd_idnr  \\\n",
       "0       IND        India              ACME Solar Tower  WRI1020239   \n",
       "1       IND        India           ADITYA CEMENT WORKS  WRI1019881   \n",
       "2       IND        India      AES Saurashtra Windfarms  WRI1026669   \n",
       "3       IND        India                   AGARTALA GT  IND0000001   \n",
       "4       IND        India                  AKALTARA TPP  IND0000002   \n",
       "..      ...          ...                           ...         ...   \n",
       "902     IND        India                  YERMARUS TPP  IND0000513   \n",
       "903     IND        India  Yelesandra Solar Power Plant  WRI1026222   \n",
       "904     IND        India  Yelisirur wind power project  WRI1026776   \n",
       "905     IND        India                   ZAWAR MINES  WRI1019901   \n",
       "906     IND        India       iEnergy Theni Wind Farm  WRI1026761   \n",
       "\n",
       "     capacity_mw  latitude  longitude primary_fuel other_fuel1 other_fuel2  \\\n",
       "0            2.5   28.1839    73.2407        Solar         NaN         NaN   \n",
       "1           98.0   24.7663    74.6090         Coal         NaN         NaN   \n",
       "2           39.2   21.9038    69.3732         Wind         NaN         NaN   \n",
       "3          135.0   23.8712    91.3602          Gas         NaN         NaN   \n",
       "4         1800.0   21.9603    82.4091         Coal         Oil         NaN   \n",
       "..           ...       ...        ...          ...         ...         ...   \n",
       "902       1600.0   16.2949    77.3568         Coal         Oil         NaN   \n",
       "903          3.0   12.8932    78.1654        Solar         NaN         NaN   \n",
       "904         25.5   15.2758    75.5811         Wind         NaN         NaN   \n",
       "905         80.0   24.3500    73.7477         Coal         NaN         NaN   \n",
       "906         16.5    9.9344    77.4768         Wind         NaN         NaN   \n",
       "\n",
       "     ...  year_of_capacity_data  generation_gwh_2013 generation_gwh_2014  \\\n",
       "0    ...                    NaN                  NaN                 NaN   \n",
       "1    ...                    NaN                  NaN                 NaN   \n",
       "2    ...                    NaN                  NaN                 NaN   \n",
       "3    ...                 2019.0                  NaN          617.789264   \n",
       "4    ...                 2019.0                  NaN         3035.550000   \n",
       "..   ...                    ...                  ...                 ...   \n",
       "902  ...                 2019.0                  NaN                 NaN   \n",
       "903  ...                    NaN                  NaN                 NaN   \n",
       "904  ...                    NaN                  NaN                 NaN   \n",
       "905  ...                    NaN                  NaN                 NaN   \n",
       "906  ...                    NaN                  NaN                 NaN   \n",
       "\n",
       "    generation_gwh_2015 generation_gwh_2016 generation_gwh_2017  \\\n",
       "0                   NaN                 NaN                 NaN   \n",
       "1                   NaN                 NaN                 NaN   \n",
       "2                   NaN                 NaN                 NaN   \n",
       "3            843.747000          886.004428          663.774500   \n",
       "4           5916.370000         6243.000000         5385.579736   \n",
       "..                  ...                 ...                 ...   \n",
       "902            0.994875          233.596650          865.400000   \n",
       "903                 NaN                 NaN                 NaN   \n",
       "904                 NaN                 NaN                 NaN   \n",
       "905                 NaN                 NaN                 NaN   \n",
       "906                 NaN                 NaN                 NaN   \n",
       "\n",
       "     generation_gwh_2018  generation_gwh_2019         generation_data_source  \\\n",
       "0                    NaN                  NaN                            NaN   \n",
       "1                    NaN                  NaN                            NaN   \n",
       "2                    NaN                  NaN                            NaN   \n",
       "3             626.239128                  NaN  Central Electricity Authority   \n",
       "4            7279.000000                  NaN  Central Electricity Authority   \n",
       "..                   ...                  ...                            ...   \n",
       "902           686.500000                  NaN  Central Electricity Authority   \n",
       "903                  NaN                  NaN                            NaN   \n",
       "904                  NaN                  NaN                            NaN   \n",
       "905                  NaN                  NaN                            NaN   \n",
       "906                  NaN                  NaN                            NaN   \n",
       "\n",
       "     estimated_generation_gwh  \n",
       "0                         NaN  \n",
       "1                         NaN  \n",
       "2                         NaN  \n",
       "3                         NaN  \n",
       "4                         NaN  \n",
       "..                        ...  \n",
       "902                       NaN  \n",
       "903                       NaN  \n",
       "904                       NaN  \n",
       "905                       NaN  \n",
       "906                       NaN  \n",
       "\n",
       "[907 rows x 27 columns]"
      ]
     },
     "execution_count": 142,
     "metadata": {},
     "output_type": "execute_result"
    }
   ],
   "source": [
    "import pandas as pd\n",
    "from sklearn.linear_model import LogisticRegression\n",
    "from sklearn.model_selection import train_test_split\n",
    "from sklearn.metrics import accuracy_score\n",
    "from category_encoders import OrdinalEncoder\n",
    "from sklearn.impute import SimpleImputer\n",
    "from sklearn.preprocessing import StandardScaler\n",
    "\n",
    "# Load the dataset\n",
    "\n",
    "\n",
    "import pandas as pd\n",
    "\n",
    "#url = 'https://raw.githubusercontent.com/wri/global-power-plant-database/master/source_databases_csv/database_IND.csv'\n",
    "#data = pd.read_csv(url)\n",
    "\n",
    "import requests\n",
    "\n",
    "url = 'https://raw.githubusercontent.com/wri/global-power-plant-database/master/source_databases_csv/database_IND.csv'\n",
    "response = requests.get(url)\n",
    "response.raise_for_status()\n",
    "\n",
    "# Specify the local file path to save the CSV file\n",
    "csv_file_path = 'C:/Users/ADMIN/Desktop/flip/data.csv'\n",
    "\n",
    "# Save the raw data to a local CSV file\n",
    "with open(csv_file_path, 'w') as file:\n",
    "    file.write(response.text)\n",
    "\n",
    "print(f\"CSV file saved to: {csv_file_path}\")\n",
    "\n",
    "import pandas as pd\n",
    "\n",
    "# Specify the file path to the CSV file\n",
    "csv_file_path = 'C:/Users/ADMIN/Desktop/flip/data.csv'\n",
    "\n",
    "# Read the CSV file into a DataFrame\n",
    "data = pd.read_csv(csv_file_path)\n",
    "data\n",
    "\n"
   ]
  },
  {
   "cell_type": "markdown",
   "id": "b2b02168",
   "metadata": {},
   "source": [
    "The data has 907 rows × 27 columns"
   ]
  },
  {
   "cell_type": "code",
   "execution_count": 225,
   "id": "c0decc4a",
   "metadata": {},
   "outputs": [
    {
     "data": {
      "text/html": [
       "<div>\n",
       "<style scoped>\n",
       "    .dataframe tbody tr th:only-of-type {\n",
       "        vertical-align: middle;\n",
       "    }\n",
       "\n",
       "    .dataframe tbody tr th {\n",
       "        vertical-align: top;\n",
       "    }\n",
       "\n",
       "    .dataframe thead th {\n",
       "        text-align: right;\n",
       "    }\n",
       "</style>\n",
       "<table border=\"1\" class=\"dataframe\">\n",
       "  <thead>\n",
       "    <tr style=\"text-align: right;\">\n",
       "      <th></th>\n",
       "      <th>primary_fuel</th>\n",
       "      <th>capacity_mw</th>\n",
       "    </tr>\n",
       "  </thead>\n",
       "  <tbody>\n",
       "    <tr>\n",
       "      <th>0</th>\n",
       "      <td>Solar</td>\n",
       "      <td>1.357209</td>\n",
       "    </tr>\n",
       "    <tr>\n",
       "      <th>1</th>\n",
       "      <td>Coal</td>\n",
       "      <td>4.610436</td>\n",
       "    </tr>\n",
       "    <tr>\n",
       "      <th>2</th>\n",
       "      <td>Wind</td>\n",
       "      <td>3.396999</td>\n",
       "    </tr>\n",
       "    <tr>\n",
       "      <th>3</th>\n",
       "      <td>Gas</td>\n",
       "      <td>5.129928</td>\n",
       "    </tr>\n",
       "    <tr>\n",
       "      <th>4</th>\n",
       "      <td>Coal</td>\n",
       "      <td>12.164404</td>\n",
       "    </tr>\n",
       "    <tr>\n",
       "      <th>...</th>\n",
       "      <td>...</td>\n",
       "      <td>...</td>\n",
       "    </tr>\n",
       "    <tr>\n",
       "      <th>695</th>\n",
       "      <td>Coal</td>\n",
       "      <td>15.820920</td>\n",
       "    </tr>\n",
       "    <tr>\n",
       "      <th>696</th>\n",
       "      <td>Coal</td>\n",
       "      <td>3.072317</td>\n",
       "    </tr>\n",
       "    <tr>\n",
       "      <th>697</th>\n",
       "      <td>Coal</td>\n",
       "      <td>10.997244</td>\n",
       "    </tr>\n",
       "    <tr>\n",
       "      <th>698</th>\n",
       "      <td>Biomass</td>\n",
       "      <td>2.519842</td>\n",
       "    </tr>\n",
       "    <tr>\n",
       "      <th>699</th>\n",
       "      <td>Coal</td>\n",
       "      <td>8.434327</td>\n",
       "    </tr>\n",
       "  </tbody>\n",
       "</table>\n",
       "<p>700 rows × 2 columns</p>\n",
       "</div>"
      ],
      "text/plain": [
       "    primary_fuel  capacity_mw\n",
       "0          Solar     1.357209\n",
       "1           Coal     4.610436\n",
       "2           Wind     3.396999\n",
       "3            Gas     5.129928\n",
       "4           Coal    12.164404\n",
       "..           ...          ...\n",
       "695         Coal    15.820920\n",
       "696         Coal     3.072317\n",
       "697         Coal    10.997244\n",
       "698      Biomass     2.519842\n",
       "699         Coal     8.434327\n",
       "\n",
       "[700 rows x 2 columns]"
      ]
     },
     "execution_count": 225,
     "metadata": {},
     "output_type": "execute_result"
    }
   ],
   "source": [
    "data.head(700)"
   ]
  },
  {
   "cell_type": "code",
   "execution_count": 144,
   "id": "05c6fa8d",
   "metadata": {},
   "outputs": [
    {
     "data": {
      "text/html": [
       "<div>\n",
       "<style scoped>\n",
       "    .dataframe tbody tr th:only-of-type {\n",
       "        vertical-align: middle;\n",
       "    }\n",
       "\n",
       "    .dataframe tbody tr th {\n",
       "        vertical-align: top;\n",
       "    }\n",
       "\n",
       "    .dataframe thead th {\n",
       "        text-align: right;\n",
       "    }\n",
       "</style>\n",
       "<table border=\"1\" class=\"dataframe\">\n",
       "  <thead>\n",
       "    <tr style=\"text-align: right;\">\n",
       "      <th></th>\n",
       "      <th>country</th>\n",
       "      <th>country_long</th>\n",
       "      <th>name</th>\n",
       "      <th>gppd_idnr</th>\n",
       "      <th>capacity_mw</th>\n",
       "      <th>latitude</th>\n",
       "      <th>longitude</th>\n",
       "      <th>primary_fuel</th>\n",
       "      <th>other_fuel1</th>\n",
       "      <th>other_fuel2</th>\n",
       "      <th>...</th>\n",
       "      <th>year_of_capacity_data</th>\n",
       "      <th>generation_gwh_2013</th>\n",
       "      <th>generation_gwh_2014</th>\n",
       "      <th>generation_gwh_2015</th>\n",
       "      <th>generation_gwh_2016</th>\n",
       "      <th>generation_gwh_2017</th>\n",
       "      <th>generation_gwh_2018</th>\n",
       "      <th>generation_gwh_2019</th>\n",
       "      <th>generation_data_source</th>\n",
       "      <th>estimated_generation_gwh</th>\n",
       "    </tr>\n",
       "  </thead>\n",
       "  <tbody>\n",
       "    <tr>\n",
       "      <th>902</th>\n",
       "      <td>IND</td>\n",
       "      <td>India</td>\n",
       "      <td>YERMARUS TPP</td>\n",
       "      <td>IND0000513</td>\n",
       "      <td>1600.0</td>\n",
       "      <td>16.2949</td>\n",
       "      <td>77.3568</td>\n",
       "      <td>Coal</td>\n",
       "      <td>Oil</td>\n",
       "      <td>NaN</td>\n",
       "      <td>...</td>\n",
       "      <td>2019.0</td>\n",
       "      <td>NaN</td>\n",
       "      <td>NaN</td>\n",
       "      <td>0.994875</td>\n",
       "      <td>233.59665</td>\n",
       "      <td>865.4</td>\n",
       "      <td>686.5</td>\n",
       "      <td>NaN</td>\n",
       "      <td>Central Electricity Authority</td>\n",
       "      <td>NaN</td>\n",
       "    </tr>\n",
       "    <tr>\n",
       "      <th>903</th>\n",
       "      <td>IND</td>\n",
       "      <td>India</td>\n",
       "      <td>Yelesandra Solar Power Plant</td>\n",
       "      <td>WRI1026222</td>\n",
       "      <td>3.0</td>\n",
       "      <td>12.8932</td>\n",
       "      <td>78.1654</td>\n",
       "      <td>Solar</td>\n",
       "      <td>NaN</td>\n",
       "      <td>NaN</td>\n",
       "      <td>...</td>\n",
       "      <td>NaN</td>\n",
       "      <td>NaN</td>\n",
       "      <td>NaN</td>\n",
       "      <td>NaN</td>\n",
       "      <td>NaN</td>\n",
       "      <td>NaN</td>\n",
       "      <td>NaN</td>\n",
       "      <td>NaN</td>\n",
       "      <td>NaN</td>\n",
       "      <td>NaN</td>\n",
       "    </tr>\n",
       "    <tr>\n",
       "      <th>904</th>\n",
       "      <td>IND</td>\n",
       "      <td>India</td>\n",
       "      <td>Yelisirur wind power project</td>\n",
       "      <td>WRI1026776</td>\n",
       "      <td>25.5</td>\n",
       "      <td>15.2758</td>\n",
       "      <td>75.5811</td>\n",
       "      <td>Wind</td>\n",
       "      <td>NaN</td>\n",
       "      <td>NaN</td>\n",
       "      <td>...</td>\n",
       "      <td>NaN</td>\n",
       "      <td>NaN</td>\n",
       "      <td>NaN</td>\n",
       "      <td>NaN</td>\n",
       "      <td>NaN</td>\n",
       "      <td>NaN</td>\n",
       "      <td>NaN</td>\n",
       "      <td>NaN</td>\n",
       "      <td>NaN</td>\n",
       "      <td>NaN</td>\n",
       "    </tr>\n",
       "    <tr>\n",
       "      <th>905</th>\n",
       "      <td>IND</td>\n",
       "      <td>India</td>\n",
       "      <td>ZAWAR MINES</td>\n",
       "      <td>WRI1019901</td>\n",
       "      <td>80.0</td>\n",
       "      <td>24.3500</td>\n",
       "      <td>73.7477</td>\n",
       "      <td>Coal</td>\n",
       "      <td>NaN</td>\n",
       "      <td>NaN</td>\n",
       "      <td>...</td>\n",
       "      <td>NaN</td>\n",
       "      <td>NaN</td>\n",
       "      <td>NaN</td>\n",
       "      <td>NaN</td>\n",
       "      <td>NaN</td>\n",
       "      <td>NaN</td>\n",
       "      <td>NaN</td>\n",
       "      <td>NaN</td>\n",
       "      <td>NaN</td>\n",
       "      <td>NaN</td>\n",
       "    </tr>\n",
       "    <tr>\n",
       "      <th>906</th>\n",
       "      <td>IND</td>\n",
       "      <td>India</td>\n",
       "      <td>iEnergy Theni Wind Farm</td>\n",
       "      <td>WRI1026761</td>\n",
       "      <td>16.5</td>\n",
       "      <td>9.9344</td>\n",
       "      <td>77.4768</td>\n",
       "      <td>Wind</td>\n",
       "      <td>NaN</td>\n",
       "      <td>NaN</td>\n",
       "      <td>...</td>\n",
       "      <td>NaN</td>\n",
       "      <td>NaN</td>\n",
       "      <td>NaN</td>\n",
       "      <td>NaN</td>\n",
       "      <td>NaN</td>\n",
       "      <td>NaN</td>\n",
       "      <td>NaN</td>\n",
       "      <td>NaN</td>\n",
       "      <td>NaN</td>\n",
       "      <td>NaN</td>\n",
       "    </tr>\n",
       "  </tbody>\n",
       "</table>\n",
       "<p>5 rows × 27 columns</p>\n",
       "</div>"
      ],
      "text/plain": [
       "    country country_long                          name   gppd_idnr  \\\n",
       "902     IND        India                  YERMARUS TPP  IND0000513   \n",
       "903     IND        India  Yelesandra Solar Power Plant  WRI1026222   \n",
       "904     IND        India  Yelisirur wind power project  WRI1026776   \n",
       "905     IND        India                   ZAWAR MINES  WRI1019901   \n",
       "906     IND        India       iEnergy Theni Wind Farm  WRI1026761   \n",
       "\n",
       "     capacity_mw  latitude  longitude primary_fuel other_fuel1 other_fuel2  \\\n",
       "902       1600.0   16.2949    77.3568         Coal         Oil         NaN   \n",
       "903          3.0   12.8932    78.1654        Solar         NaN         NaN   \n",
       "904         25.5   15.2758    75.5811         Wind         NaN         NaN   \n",
       "905         80.0   24.3500    73.7477         Coal         NaN         NaN   \n",
       "906         16.5    9.9344    77.4768         Wind         NaN         NaN   \n",
       "\n",
       "     ...  year_of_capacity_data  generation_gwh_2013 generation_gwh_2014  \\\n",
       "902  ...                 2019.0                  NaN                 NaN   \n",
       "903  ...                    NaN                  NaN                 NaN   \n",
       "904  ...                    NaN                  NaN                 NaN   \n",
       "905  ...                    NaN                  NaN                 NaN   \n",
       "906  ...                    NaN                  NaN                 NaN   \n",
       "\n",
       "    generation_gwh_2015 generation_gwh_2016 generation_gwh_2017  \\\n",
       "902            0.994875           233.59665               865.4   \n",
       "903                 NaN                 NaN                 NaN   \n",
       "904                 NaN                 NaN                 NaN   \n",
       "905                 NaN                 NaN                 NaN   \n",
       "906                 NaN                 NaN                 NaN   \n",
       "\n",
       "     generation_gwh_2018  generation_gwh_2019         generation_data_source  \\\n",
       "902                686.5                  NaN  Central Electricity Authority   \n",
       "903                  NaN                  NaN                            NaN   \n",
       "904                  NaN                  NaN                            NaN   \n",
       "905                  NaN                  NaN                            NaN   \n",
       "906                  NaN                  NaN                            NaN   \n",
       "\n",
       "     estimated_generation_gwh  \n",
       "902                       NaN  \n",
       "903                       NaN  \n",
       "904                       NaN  \n",
       "905                       NaN  \n",
       "906                       NaN  \n",
       "\n",
       "[5 rows x 27 columns]"
      ]
     },
     "execution_count": 144,
     "metadata": {},
     "output_type": "execute_result"
    }
   ],
   "source": [
    "data.tail()"
   ]
  },
  {
   "cell_type": "code",
   "execution_count": 145,
   "id": "d619a5ba",
   "metadata": {},
   "outputs": [
    {
     "data": {
      "text/plain": [
       "(907, 27)"
      ]
     },
     "execution_count": 145,
     "metadata": {},
     "output_type": "execute_result"
    }
   ],
   "source": [
    "data.shape"
   ]
  },
  {
   "cell_type": "markdown",
   "id": "2a1ee3ab",
   "metadata": {},
   "source": [
    "data has 907 rows and 27 columns out of which 1 is target and remaining are independent variable"
   ]
  },
  {
   "cell_type": "code",
   "execution_count": 146,
   "id": "e2ff52ec",
   "metadata": {},
   "outputs": [
    {
     "data": {
      "text/plain": [
       "['country',\n",
       " 'country_long',\n",
       " 'name',\n",
       " 'gppd_idnr',\n",
       " 'capacity_mw',\n",
       " 'latitude',\n",
       " 'longitude',\n",
       " 'primary_fuel',\n",
       " 'other_fuel1',\n",
       " 'other_fuel2',\n",
       " 'other_fuel3',\n",
       " 'commissioning_year',\n",
       " 'owner',\n",
       " 'source',\n",
       " 'url',\n",
       " 'geolocation_source',\n",
       " 'wepp_id',\n",
       " 'year_of_capacity_data',\n",
       " 'generation_gwh_2013',\n",
       " 'generation_gwh_2014',\n",
       " 'generation_gwh_2015',\n",
       " 'generation_gwh_2016',\n",
       " 'generation_gwh_2017',\n",
       " 'generation_gwh_2018',\n",
       " 'generation_gwh_2019',\n",
       " 'generation_data_source',\n",
       " 'estimated_generation_gwh']"
      ]
     },
     "execution_count": 146,
     "metadata": {},
     "output_type": "execute_result"
    }
   ],
   "source": [
    "data.columns\n",
    "data.columns.tolist()"
   ]
  },
  {
   "cell_type": "code",
   "execution_count": 147,
   "id": "b502a5fe",
   "metadata": {},
   "outputs": [
    {
     "name": "stdout",
     "output_type": "stream",
     "text": [
      "country                      object\n",
      "country_long                 object\n",
      "name                         object\n",
      "gppd_idnr                    object\n",
      "capacity_mw                 float64\n",
      "latitude                    float64\n",
      "longitude                   float64\n",
      "primary_fuel                 object\n",
      "other_fuel1                  object\n",
      "other_fuel2                  object\n",
      "other_fuel3                 float64\n",
      "commissioning_year          float64\n",
      "owner                        object\n",
      "source                       object\n",
      "url                          object\n",
      "geolocation_source           object\n",
      "wepp_id                     float64\n",
      "year_of_capacity_data       float64\n",
      "generation_gwh_2013         float64\n",
      "generation_gwh_2014         float64\n",
      "generation_gwh_2015         float64\n",
      "generation_gwh_2016         float64\n",
      "generation_gwh_2017         float64\n",
      "generation_gwh_2018         float64\n",
      "generation_gwh_2019         float64\n",
      "generation_data_source       object\n",
      "estimated_generation_gwh    float64\n",
      "dtype: object\n"
     ]
    }
   ],
   "source": [
    "print(data.dtypes)\n"
   ]
  },
  {
   "cell_type": "markdown",
   "id": "02bed8cd",
   "metadata": {},
   "source": [
    "Data type is object, and float 64"
   ]
  },
  {
   "cell_type": "code",
   "execution_count": 148,
   "id": "93da8da5",
   "metadata": {},
   "outputs": [
    {
     "data": {
      "text/plain": [
       "country                       0\n",
       "country_long                  0\n",
       "name                          0\n",
       "gppd_idnr                     0\n",
       "capacity_mw                   0\n",
       "latitude                     46\n",
       "longitude                    46\n",
       "primary_fuel                  0\n",
       "other_fuel1                 709\n",
       "other_fuel2                 906\n",
       "other_fuel3                 907\n",
       "commissioning_year          380\n",
       "owner                       565\n",
       "source                        0\n",
       "url                           0\n",
       "geolocation_source           19\n",
       "wepp_id                     907\n",
       "year_of_capacity_data       388\n",
       "generation_gwh_2013         907\n",
       "generation_gwh_2014         509\n",
       "generation_gwh_2015         485\n",
       "generation_gwh_2016         473\n",
       "generation_gwh_2017         467\n",
       "generation_gwh_2018         459\n",
       "generation_gwh_2019         907\n",
       "generation_data_source      458\n",
       "estimated_generation_gwh    907\n",
       "dtype: int64"
      ]
     },
     "execution_count": 148,
     "metadata": {},
     "output_type": "execute_result"
    }
   ],
   "source": [
    "#checking the null values\n",
    "data.isnull().sum()"
   ]
  },
  {
   "cell_type": "markdown",
   "id": "d0d351d6",
   "metadata": {},
   "source": [
    "There area  null values in the data frame"
   ]
  },
  {
   "cell_type": "code",
   "execution_count": 13,
   "id": "da4a641a",
   "metadata": {},
   "outputs": [
    {
     "name": "stdout",
     "output_type": "stream",
     "text": [
      "<class 'pandas.core.frame.DataFrame'>\n",
      "RangeIndex: 907 entries, 0 to 906\n",
      "Data columns (total 27 columns):\n",
      " #   Column                    Non-Null Count  Dtype  \n",
      "---  ------                    --------------  -----  \n",
      " 0   country                   907 non-null    object \n",
      " 1   country_long              907 non-null    object \n",
      " 2   name                      907 non-null    object \n",
      " 3   gppd_idnr                 907 non-null    object \n",
      " 4   capacity_mw               907 non-null    float64\n",
      " 5   latitude                  861 non-null    float64\n",
      " 6   longitude                 861 non-null    float64\n",
      " 7   primary_fuel              907 non-null    object \n",
      " 8   other_fuel1               198 non-null    object \n",
      " 9   other_fuel2               1 non-null      object \n",
      " 10  other_fuel3               0 non-null      float64\n",
      " 11  commissioning_year        527 non-null    float64\n",
      " 12  owner                     342 non-null    object \n",
      " 13  source                    907 non-null    object \n",
      " 14  url                       907 non-null    object \n",
      " 15  geolocation_source        888 non-null    object \n",
      " 16  wepp_id                   0 non-null      float64\n",
      " 17  year_of_capacity_data     519 non-null    float64\n",
      " 18  generation_gwh_2013       0 non-null      float64\n",
      " 19  generation_gwh_2014       398 non-null    float64\n",
      " 20  generation_gwh_2015       422 non-null    float64\n",
      " 21  generation_gwh_2016       434 non-null    float64\n",
      " 22  generation_gwh_2017       440 non-null    float64\n",
      " 23  generation_gwh_2018       448 non-null    float64\n",
      " 24  generation_gwh_2019       0 non-null      float64\n",
      " 25  generation_data_source    449 non-null    object \n",
      " 26  estimated_generation_gwh  0 non-null      float64\n",
      "dtypes: float64(15), object(12)\n",
      "memory usage: 191.4+ KB\n"
     ]
    }
   ],
   "source": [
    "data.info()"
   ]
  },
  {
   "cell_type": "code",
   "execution_count": 14,
   "id": "347c3e0b",
   "metadata": {},
   "outputs": [
    {
     "data": {
      "text/plain": [
       "<AxesSubplot:>"
      ]
     },
     "execution_count": 14,
     "metadata": {},
     "output_type": "execute_result"
    },
    {
     "data": {
      "image/png": "[encoded data removed]",
      "text/plain": [
       "<Figure size 640x480 with 2 Axes>"
      ]
     },
     "metadata": {},
     "output_type": "display_data"
    }
   ],
   "source": [
    "import seaborn as sns\n",
    "sns.heatmap(data.isnull())"
   ]
  },
  {
   "cell_type": "code",
   "execution_count": null,
   "id": "1a9e32fd",
   "metadata": {},
   "outputs": [],
   "source": [
    "there are null values as seen above also"
   ]
  },
  {
   "cell_type": "code",
   "execution_count": 16,
   "id": "06fd4261",
   "metadata": {},
   "outputs": [
    {
     "name": "stdout",
     "output_type": "stream",
     "text": [
      "Null Value Counts:\n",
      "country                       0\n",
      "country_long                  0\n",
      "name                          0\n",
      "gppd_idnr                     0\n",
      "capacity_mw                   0\n",
      "latitude                     46\n",
      "longitude                    46\n",
      "primary_fuel                  0\n",
      "other_fuel1                 709\n",
      "other_fuel2                 906\n",
      "other_fuel3                 907\n",
      "commissioning_year          380\n",
      "owner                       565\n",
      "source                        0\n",
      "url                           0\n",
      "geolocation_source           19\n",
      "wepp_id                     907\n",
      "year_of_capacity_data       388\n",
      "generation_gwh_2013         907\n",
      "generation_gwh_2014         509\n",
      "generation_gwh_2015         485\n",
      "generation_gwh_2016         473\n",
      "generation_gwh_2017         467\n",
      "generation_gwh_2018         459\n",
      "generation_gwh_2019         907\n",
      "generation_data_source      458\n",
      "estimated_generation_gwh    907\n",
      "dtype: int64\n"
     ]
    }
   ],
   "source": [
    "# removing null values\n",
    "import pandas as pd\n",
    "\n",
    "# Check for null values\n",
    "null_counts = data.isnull().sum()\n",
    "print(\"Null Value Counts:\")\n",
    "print(null_counts)\n",
    "\n",
    "\n"
   ]
  },
  {
   "cell_type": "code",
   "execution_count": 116,
   "id": "132cfd47",
   "metadata": {},
   "outputs": [
    {
     "name": "stdout",
     "output_type": "stream",
     "text": [
      "Null Value Counts After Removal:\n",
      "country                     0.0\n",
      "country_long                0.0\n",
      "name                        0.0\n",
      "gppd_idnr                   0.0\n",
      "capacity_mw                 0.0\n",
      "latitude                    0.0\n",
      "longitude                   0.0\n",
      "primary_fuel                0.0\n",
      "other_fuel1                 0.0\n",
      "other_fuel2                 0.0\n",
      "other_fuel3                 0.0\n",
      "commissioning_year          0.0\n",
      "owner                       0.0\n",
      "source                      0.0\n",
      "url                         0.0\n",
      "geolocation_source          0.0\n",
      "wepp_id                     0.0\n",
      "year_of_capacity_data       0.0\n",
      "generation_gwh_2013         0.0\n",
      "generation_gwh_2014         0.0\n",
      "generation_gwh_2015         0.0\n",
      "generation_gwh_2016         0.0\n",
      "generation_gwh_2017         0.0\n",
      "generation_gwh_2018         0.0\n",
      "generation_gwh_2019         0.0\n",
      "generation_data_source      0.0\n",
      "estimated_generation_gwh    0.0\n",
      "dtype: float64\n"
     ]
    }
   ],
   "source": [
    "# Remove rows with null values\n",
    "data_without_nulls = data.dropna()\n",
    "\n",
    "# Verify if null values have been removed\n",
    "null_counts_after_removal = data_without_nulls.isnull().sum()\n",
    "print(\"Null Value Counts After Removal:\")\n",
    "print(null_counts_after_removal)"
   ]
  },
  {
   "cell_type": "code",
   "execution_count": 19,
   "id": "2654ffb5",
   "metadata": {},
   "outputs": [
    {
     "name": "stdout",
     "output_type": "stream",
     "text": [
      "<class 'pandas.core.frame.DataFrame'>\n",
      "Int64Index: 0 entries\n",
      "Data columns (total 27 columns):\n",
      " #   Column                    Non-Null Count  Dtype  \n",
      "---  ------                    --------------  -----  \n",
      " 0   country                   0 non-null      object \n",
      " 1   country_long              0 non-null      object \n",
      " 2   name                      0 non-null      object \n",
      " 3   gppd_idnr                 0 non-null      object \n",
      " 4   capacity_mw               0 non-null      float64\n",
      " 5   latitude                  0 non-null      float64\n",
      " 6   longitude                 0 non-null      float64\n",
      " 7   primary_fuel              0 non-null      object \n",
      " 8   other_fuel1               0 non-null      object \n",
      " 9   other_fuel2               0 non-null      object \n",
      " 10  other_fuel3               0 non-null      float64\n",
      " 11  commissioning_year        0 non-null      float64\n",
      " 12  owner                     0 non-null      object \n",
      " 13  source                    0 non-null      object \n",
      " 14  url                       0 non-null      object \n",
      " 15  geolocation_source        0 non-null      object \n",
      " 16  wepp_id                   0 non-null      float64\n",
      " 17  year_of_capacity_data     0 non-null      float64\n",
      " 18  generation_gwh_2013       0 non-null      float64\n",
      " 19  generation_gwh_2014       0 non-null      float64\n",
      " 20  generation_gwh_2015       0 non-null      float64\n",
      " 21  generation_gwh_2016       0 non-null      float64\n",
      " 22  generation_gwh_2017       0 non-null      float64\n",
      " 23  generation_gwh_2018       0 non-null      float64\n",
      " 24  generation_gwh_2019       0 non-null      float64\n",
      " 25  generation_data_source    0 non-null      object \n",
      " 26  estimated_generation_gwh  0 non-null      float64\n",
      "dtypes: float64(15), object(12)\n",
      "memory usage: 0.0+ bytes\n"
     ]
    }
   ],
   "source": [
    "data_without_nulls.info()"
   ]
  },
  {
   "cell_type": "code",
   "execution_count": 149,
   "id": "1e6aa686",
   "metadata": {},
   "outputs": [
    {
     "name": "stdout",
     "output_type": "stream",
     "text": [
      "  primary_fuel  capacity_mw\n",
      "0        Solar          2.5\n",
      "1         Coal         98.0\n",
      "2         Wind         39.2\n",
      "3          Gas        135.0\n",
      "4         Coal       1800.0\n"
     ]
    }
   ],
   "source": [
    "import pandas as pd\n",
    "\n",
    "# Read the dataset into a DataFrame\n",
    "url = 'https://raw.githubusercontent.com/wri/global-power-plant-database/master/source_databases_csv/database_IND.csv'\n",
    "data = pd.read_csv(url)\n",
    "\n",
    "# Handle missing values\n",
    "data.dropna(subset=['primary_fuel', 'capacity_mw'], inplace=True)\n",
    "\n",
    "# Remove irrelevant columns if any\n",
    "data = data[['primary_fuel', 'capacity_mw']]\n",
    "\n",
    "# Convert data types if needed\n",
    "data['capacity_mw'] = data['capacity_mw'].astype(float)\n",
    "\n",
    "# Display the cleaned data\n",
    "print(data.head())\n"
   ]
  },
  {
   "cell_type": "code",
   "execution_count": 150,
   "id": "c2da2f9d",
   "metadata": {},
   "outputs": [
    {
     "name": "stdout",
     "output_type": "stream",
     "text": [
      "The DataFrame is empty. No heatmap can be plotted.\n"
     ]
    }
   ],
   "source": [
    "import seaborn as sns\n",
    "\n",
    "# Check if data_without_nulls DataFrame is empty\n",
    "if data_without_nulls.empty:\n",
    "    print(\"The DataFrame is empty. No heatmap can be plotted.\")\n",
    "else:\n",
    "    # Plot heatmap of null values\n",
    "    sns.heatmap(data_without_nulls.isnull())"
   ]
  },
  {
   "cell_type": "code",
   "execution_count": 151,
   "id": "088d283e",
   "metadata": {},
   "outputs": [
    {
     "data": {
      "text/plain": [
       "array(['Solar', 'Coal', 'Wind', 'Gas', 'Hydro', 'Biomass', 'Oil',\n",
       "       'Nuclear'], dtype=object)"
      ]
     },
     "execution_count": 151,
     "metadata": {},
     "output_type": "execute_result"
    }
   ],
   "source": [
    "# to check unique vqlues\n",
    "data['primary_fuel'].unique()\n"
   ]
  },
  {
   "cell_type": "code",
   "execution_count": 152,
   "id": "16772c23",
   "metadata": {},
   "outputs": [
    {
     "data": {
      "text/plain": [
       "8"
      ]
     },
     "execution_count": 152,
     "metadata": {},
     "output_type": "execute_result"
    }
   ],
   "source": [
    "data['primary_fuel'].nunique()# number of unique values\n"
   ]
  },
  {
   "cell_type": "code",
   "execution_count": 3,
   "id": "de490234",
   "metadata": {},
   "outputs": [
    {
     "data": {
      "text/plain": [
       "73"
      ]
     },
     "execution_count": 3,
     "metadata": {},
     "output_type": "execute_result"
    }
   ],
   "source": [
    "data['commissioning_year'].nunique()# number of unique values\n"
   ]
  },
  {
   "cell_type": "code",
   "execution_count": 4,
   "id": "dcea1d75",
   "metadata": {},
   "outputs": [
    {
     "data": {
      "text/plain": [
       "0"
      ]
     },
     "execution_count": 4,
     "metadata": {},
     "output_type": "execute_result"
    }
   ],
   "source": [
    "data['estimated_generation_gwh'].nunique()# number of unique values"
   ]
  },
  {
   "cell_type": "code",
   "execution_count": 153,
   "id": "65a8c7b9",
   "metadata": {},
   "outputs": [
    {
     "name": "stdout",
     "output_type": "stream",
     "text": [
      "Coal       258\n",
      "Hydro      251\n",
      "Solar      127\n",
      "Wind       123\n",
      "Gas         69\n",
      "Biomass     50\n",
      "Oil         20\n",
      "Nuclear      9\n",
      "Name: primary_fuel, dtype: int64\n",
      "\n",
      "\n",
      "5.0       39\n",
      "10.0      22\n",
      "600.0     20\n",
      "15.0      20\n",
      "1200.0    19\n",
      "          ..\n",
      "291.0      1\n",
      "645.0      1\n",
      "41.4       1\n",
      "17.5       1\n",
      "106.6      1\n",
      "Name: capacity_mw, Length: 361, dtype: int64\n",
      "\n",
      "\n"
     ]
    }
   ],
   "source": [
    "for i in data.columns:\n",
    "    print(data[i].value_counts())\n",
    "    print(\"\\n\")\n",
    "    "
   ]
  },
  {
   "cell_type": "code",
   "execution_count": 154,
   "id": "9e3c28ac",
   "metadata": {},
   "outputs": [
    {
     "data": {
      "text/plain": [
       "907"
      ]
     },
     "execution_count": 154,
     "metadata": {},
     "output_type": "execute_result"
    }
   ],
   "source": [
    "data[\"primary_fuel\"].unique()\n",
    "data.shape[0]\n"
   ]
  },
  {
   "cell_type": "code",
   "execution_count": 155,
   "id": "a1218149",
   "metadata": {},
   "outputs": [
    {
     "data": {
      "text/html": [
       "<div>\n",
       "<style scoped>\n",
       "    .dataframe tbody tr th:only-of-type {\n",
       "        vertical-align: middle;\n",
       "    }\n",
       "\n",
       "    .dataframe tbody tr th {\n",
       "        vertical-align: top;\n",
       "    }\n",
       "\n",
       "    .dataframe thead th {\n",
       "        text-align: right;\n",
       "    }\n",
       "</style>\n",
       "<table border=\"1\" class=\"dataframe\">\n",
       "  <thead>\n",
       "    <tr style=\"text-align: right;\">\n",
       "      <th></th>\n",
       "      <th>primary_fuel</th>\n",
       "      <th>capacity_mw</th>\n",
       "    </tr>\n",
       "  </thead>\n",
       "  <tbody>\n",
       "  </tbody>\n",
       "</table>\n",
       "</div>"
      ],
      "text/plain": [
       "Empty DataFrame\n",
       "Columns: [primary_fuel, capacity_mw]\n",
       "Index: []"
      ]
     },
     "execution_count": 155,
     "metadata": {},
     "output_type": "execute_result"
    }
   ],
   "source": [
    "data.loc[data[\"primary_fuel\"]==\" \"]"
   ]
  },
  {
   "cell_type": "code",
   "execution_count": 156,
   "id": "f075a270",
   "metadata": {},
   "outputs": [
    {
     "data": {
      "text/plain": [
       "<AxesSubplot:>"
      ]
     },
     "execution_count": 156,
     "metadata": {},
     "output_type": "execute_result"
    },
    {
     "data": {
      "image/png": "[encoded data removed]",
      "text/plain": [
       "<Figure size 640x480 with 2 Axes>"
      ]
     },
     "metadata": {},
     "output_type": "display_data"
    }
   ],
   "source": [
    "import seaborn as sns\n",
    "sns.heatmap(data.isnull(),cmap=\"cool_r\")"
   ]
  },
  {
   "cell_type": "code",
   "execution_count": 157,
   "id": "3bd2544f",
   "metadata": {},
   "outputs": [
    {
     "data": {
      "text/html": [
       "<div>\n",
       "<style scoped>\n",
       "    .dataframe tbody tr th:only-of-type {\n",
       "        vertical-align: middle;\n",
       "    }\n",
       "\n",
       "    .dataframe tbody tr th {\n",
       "        vertical-align: top;\n",
       "    }\n",
       "\n",
       "    .dataframe thead th {\n",
       "        text-align: right;\n",
       "    }\n",
       "</style>\n",
       "<table border=\"1\" class=\"dataframe\">\n",
       "  <thead>\n",
       "    <tr style=\"text-align: right;\">\n",
       "      <th></th>\n",
       "      <th>capacity_mw</th>\n",
       "    </tr>\n",
       "  </thead>\n",
       "  <tbody>\n",
       "    <tr>\n",
       "      <th>count</th>\n",
       "      <td>907.000000</td>\n",
       "    </tr>\n",
       "    <tr>\n",
       "      <th>mean</th>\n",
       "      <td>326.223755</td>\n",
       "    </tr>\n",
       "    <tr>\n",
       "      <th>std</th>\n",
       "      <td>590.085456</td>\n",
       "    </tr>\n",
       "    <tr>\n",
       "      <th>min</th>\n",
       "      <td>0.000000</td>\n",
       "    </tr>\n",
       "    <tr>\n",
       "      <th>25%</th>\n",
       "      <td>16.725000</td>\n",
       "    </tr>\n",
       "    <tr>\n",
       "      <th>50%</th>\n",
       "      <td>59.200000</td>\n",
       "    </tr>\n",
       "    <tr>\n",
       "      <th>75%</th>\n",
       "      <td>385.250000</td>\n",
       "    </tr>\n",
       "    <tr>\n",
       "      <th>max</th>\n",
       "      <td>4760.000000</td>\n",
       "    </tr>\n",
       "  </tbody>\n",
       "</table>\n",
       "</div>"
      ],
      "text/plain": [
       "       capacity_mw\n",
       "count   907.000000\n",
       "mean    326.223755\n",
       "std     590.085456\n",
       "min       0.000000\n",
       "25%      16.725000\n",
       "50%      59.200000\n",
       "75%     385.250000\n",
       "max    4760.000000"
      ]
     },
     "execution_count": 157,
     "metadata": {},
     "output_type": "execute_result"
    }
   ],
   "source": [
    "data.describe()"
   ]
  },
  {
   "cell_type": "code",
   "execution_count": 158,
   "id": "a53e7173",
   "metadata": {},
   "outputs": [
    {
     "data": {
      "text/html": [
       "<div>\n",
       "<style scoped>\n",
       "    .dataframe tbody tr th:only-of-type {\n",
       "        vertical-align: middle;\n",
       "    }\n",
       "\n",
       "    .dataframe tbody tr th {\n",
       "        vertical-align: top;\n",
       "    }\n",
       "\n",
       "    .dataframe thead th {\n",
       "        text-align: right;\n",
       "    }\n",
       "</style>\n",
       "<table border=\"1\" class=\"dataframe\">\n",
       "  <thead>\n",
       "    <tr style=\"text-align: right;\">\n",
       "      <th></th>\n",
       "      <th>No.of unique value</th>\n",
       "    </tr>\n",
       "  </thead>\n",
       "  <tbody>\n",
       "    <tr>\n",
       "      <th>primary_fuel</th>\n",
       "      <td>8</td>\n",
       "    </tr>\n",
       "    <tr>\n",
       "      <th>capacity_mw</th>\n",
       "      <td>361</td>\n",
       "    </tr>\n",
       "  </tbody>\n",
       "</table>\n",
       "</div>"
      ],
      "text/plain": [
       "              No.of unique value\n",
       "primary_fuel                   8\n",
       "capacity_mw                  361"
      ]
     },
     "execution_count": 158,
     "metadata": {},
     "output_type": "execute_result"
    }
   ],
   "source": [
    "#checking the unique values in each column\n",
    "data.nunique().to_frame(\"No.of unique value\")"
   ]
  },
  {
   "cell_type": "code",
   "execution_count": 159,
   "id": "73429f47",
   "metadata": {},
   "outputs": [
    {
     "name": "stdout",
     "output_type": "stream",
     "text": [
      "Index(['capacity_mw'], dtype='object')\n"
     ]
    }
   ],
   "source": [
    "numerical_columns = data.select_dtypes(include=\"number\").columns\n",
    "print(numerical_columns)\n"
   ]
  },
  {
   "cell_type": "code",
   "execution_count": 160,
   "id": "2dbeaae2",
   "metadata": {},
   "outputs": [
    {
     "name": "stdout",
     "output_type": "stream",
     "text": [
      "Categorical columns: ['primary_fuel']\n"
     ]
    }
   ],
   "source": [
    "categorical_colm = []\n",
    "for i in data.columns:\n",
    "    if data[i].dtype == \"object\":\n",
    "        categorical_colm.append(i)\n",
    "\n",
    "print(\"Categorical columns:\", categorical_colm)\n"
   ]
  },
  {
   "cell_type": "markdown",
   "id": "d6797bc9",
   "metadata": {},
   "source": [
    " data visualization"
   ]
  },
  {
   "cell_type": "code",
   "execution_count": 161,
   "id": "1cee2a81",
   "metadata": {},
   "outputs": [
    {
     "name": "stdout",
     "output_type": "stream",
     "text": [
      "Coal       258\n",
      "Hydro      251\n",
      "Solar      127\n",
      "Wind       123\n",
      "Gas         69\n",
      "Biomass     50\n",
      "Oil         20\n",
      "Nuclear      9\n",
      "Name: primary_fuel, dtype: int64\n"
     ]
    },
    {
     "data": {
      "image/png": "[encoded data removed]",
      "text/plain": [
       "<Figure size 640x480 with 1 Axes>"
      ]
     },
     "metadata": {},
     "output_type": "display_data"
    }
   ],
   "source": [
    "\n",
    "import seaborn as sns\n",
    "\n",
    "if data[\"primary_fuel\"].notnull().any():\n",
    "    sns.countplot(x='primary_fuel', data=data)\n",
    "    print(data[\"primary_fuel\"].value_counts())\n",
    "else:\n",
    "    print(\"The 'primary_fuel' column does not contain any non-null values.\")\n",
    "\n"
   ]
  },
  {
   "cell_type": "code",
   "execution_count": 162,
   "id": "52f8ce8a",
   "metadata": {},
   "outputs": [
    {
     "name": "stdout",
     "output_type": "stream",
     "text": [
      "5.0       39\n",
      "10.0      22\n",
      "600.0     20\n",
      "15.0      20\n",
      "1200.0    19\n",
      "          ..\n",
      "291.0      1\n",
      "645.0      1\n",
      "41.4       1\n",
      "17.5       1\n",
      "106.6      1\n",
      "Name: capacity_mw, Length: 361, dtype: int64\n"
     ]
    },
    {
     "data": {
      "image/png": "[encoded data removed]",
      "text/plain": [
       "<Figure size 640x480 with 1 Axes>"
      ]
     },
     "metadata": {},
     "output_type": "display_data"
    }
   ],
   "source": [
    "\n",
    "import seaborn as sns\n",
    "\n",
    "if data[\"capacity_mw\"].notnull().any():\n",
    "    sns.countplot(x='capacity_mw', data=data)\n",
    "    print(data[\"capacity_mw\"].value_counts())\n",
    "else:\n",
    "    print(\"The 'capacity_mw' column does not contain any non-null values.\")"
   ]
  },
  {
   "cell_type": "code",
   "execution_count": 163,
   "id": "d56736ec",
   "metadata": {},
   "outputs": [
    {
     "name": "stderr",
     "output_type": "stream",
     "text": [
      "C:\\Users\\ADMIN\\anaconda3\\lib\\site-packages\\seaborn\\distributions.py:2619: FutureWarning: `distplot` is a deprecated function and will be removed in a future version. Please adapt your code to use either `displot` (a figure-level function with similar flexibility) or `histplot` (an axes-level function for histograms).\n",
      "  warnings.warn(msg, FutureWarning)\n"
     ]
    },
    {
     "data": {
      "image/png": "[encoded data removed]",
      "text/plain": [
       "<Figure size 2000x2000 with 1 Axes>"
      ]
     },
     "metadata": {},
     "output_type": "display_data"
    }
   ],
   "source": [
    "import matplotlib.pyplot as plt\n",
    "plt.figure(figsize=(20, 20), facecolor=\"white\")\n",
    "plotnumber = 1\n",
    "#numerical_columns = ['column1', 'column2', 'column3', 'column4']  # Replace with your actual numerical column names\n",
    "\n",
    "for column in numerical_columns:\n",
    "    if plotnumber <= 4:\n",
    "        ax = plt.subplot(2, 2, plotnumber)\n",
    "        sns.distplot(data[column], color=\"m\")\n",
    "        plt.xlabel(column, fontsize=12)\n",
    "        plt.yticks(rotation=0, fontsize=10)\n",
    "        plotnumber += 1\n",
    "\n",
    "plt.tight_layout()\n",
    "plt.show()\n"
   ]
  },
  {
   "cell_type": "markdown",
   "id": "4cc59897",
   "metadata": {},
   "source": [
    "capacity is skewed towards left capacity_mw', 'latitude', 'longitude', 'other_fuel3',\n",
    "       'commissioning_year', 'wepp_id', 'year_of_capacity_data',\n",
    "       'generation_gwh_2013', 'generation_gwh_2014', 'generation_gwh_2015',\n",
    "       'generation_gwh_2016', 'generation_gwh_2017', 'generation_gwh_2018',\n",
    "       'generation_gwh_2019', 'estimated_generation_gwh"
   ]
  },
  {
   "cell_type": "markdown",
   "id": "9bb67f21",
   "metadata": {},
   "source": [
    "Multivariate Analysis"
   ]
  },
  {
   "cell_type": "code",
   "execution_count": 169,
   "id": "04689fc8",
   "metadata": {},
   "outputs": [
    {
     "data": {
      "image/png": "[encoded data removed]",
      "text/plain": [
       "<Figure size 348.861x250 with 2 Axes>"
      ]
     },
     "metadata": {},
     "output_type": "display_data"
    }
   ],
   "source": [
    "import seaborn as sns\n",
    "import matplotlib.pyplot as plt\n",
    "\n",
    "# Assuming you have a DataFrame named 'data' containing the desired data\n",
    "\n",
    "sns.pairplot(data, hue='primary_fuel', palette='Dark2')\n",
    "plt.show()"
   ]
  },
  {
   "cell_type": "code",
   "execution_count": 175,
   "id": "dfea2d46",
   "metadata": {},
   "outputs": [
    {
     "name": "stderr",
     "output_type": "stream",
     "text": [
      "C:\\Users\\ADMIN\\anaconda3\\lib\\site-packages\\seaborn\\_decorators.py:36: FutureWarning: Pass the following variable as a keyword arg: x. From version 0.12, the only valid positional argument will be `data`, and passing other arguments without an explicit keyword will result in an error or misinterpretation.\n",
      "  warnings.warn(\n"
     ]
    },
    {
     "data": {
      "image/png": "[encoded data removed]",
      "text/plain": [
       "<Figure size 2000x2000 with 1 Axes>"
      ]
     },
     "metadata": {},
     "output_type": "display_data"
    }
   ],
   "source": [
    "# Checking for outliners using box plot\n",
    "import matplotlib.pyplot as plt\n",
    "plt.figure(figsize=(20, 20), facecolor=\"white\")\n",
    "plotnumber = 1\n",
    "numerical_columns = [\"capacity_mw\"] # Replace with your actual numerical column names\n",
    "\n",
    "for column in numerical_columns:\n",
    "    if plotnumber <= 4:\n",
    "        ax = plt.subplot(2, 2, plotnumber)\n",
    "        sns.boxplot(data[column], color=\"m\")\n",
    "        plt.xlabel(column, fontsize=12)\n",
    "        plt.yticks(rotation=0, fontsize=10)\n",
    "        plotnumber+= 1\n",
    "\n",
    "plt.tight_layout()\n",
    "plt.show()"
   ]
  },
  {
   "cell_type": "code",
   "execution_count": 176,
   "id": "acd1a828",
   "metadata": {},
   "outputs": [
    {
     "data": {
      "text/html": [
       "<div>\n",
       "<style scoped>\n",
       "    .dataframe tbody tr th:only-of-type {\n",
       "        vertical-align: middle;\n",
       "    }\n",
       "\n",
       "    .dataframe tbody tr th {\n",
       "        vertical-align: top;\n",
       "    }\n",
       "\n",
       "    .dataframe thead th {\n",
       "        text-align: right;\n",
       "    }\n",
       "</style>\n",
       "<table border=\"1\" class=\"dataframe\">\n",
       "  <thead>\n",
       "    <tr style=\"text-align: right;\">\n",
       "      <th></th>\n",
       "      <th>capacity_mw</th>\n",
       "    </tr>\n",
       "  </thead>\n",
       "  <tbody>\n",
       "    <tr>\n",
       "      <th>0</th>\n",
       "      <td>0.548908</td>\n",
       "    </tr>\n",
       "    <tr>\n",
       "      <th>1</th>\n",
       "      <td>0.386977</td>\n",
       "    </tr>\n",
       "    <tr>\n",
       "      <th>2</th>\n",
       "      <td>0.486679</td>\n",
       "    </tr>\n",
       "    <tr>\n",
       "      <th>3</th>\n",
       "      <td>0.324240</td>\n",
       "    </tr>\n",
       "    <tr>\n",
       "      <th>4</th>\n",
       "      <td>2.498942</td>\n",
       "    </tr>\n",
       "    <tr>\n",
       "      <th>...</th>\n",
       "      <td>...</td>\n",
       "    </tr>\n",
       "    <tr>\n",
       "      <th>902</th>\n",
       "      <td>2.159821</td>\n",
       "    </tr>\n",
       "    <tr>\n",
       "      <th>903</th>\n",
       "      <td>0.548060</td>\n",
       "    </tr>\n",
       "    <tr>\n",
       "      <th>904</th>\n",
       "      <td>0.509909</td>\n",
       "    </tr>\n",
       "    <tr>\n",
       "      <th>905</th>\n",
       "      <td>0.417498</td>\n",
       "    </tr>\n",
       "    <tr>\n",
       "      <th>906</th>\n",
       "      <td>0.525169</td>\n",
       "    </tr>\n",
       "  </tbody>\n",
       "</table>\n",
       "<p>907 rows × 1 columns</p>\n",
       "</div>"
      ],
      "text/plain": [
       "     capacity_mw\n",
       "0       0.548908\n",
       "1       0.386977\n",
       "2       0.486679\n",
       "3       0.324240\n",
       "4       2.498942\n",
       "..           ...\n",
       "902     2.159821\n",
       "903     0.548060\n",
       "904     0.509909\n",
       "905     0.417498\n",
       "906     0.525169\n",
       "\n",
       "[907 rows x 1 columns]"
      ]
     },
     "execution_count": 176,
     "metadata": {},
     "output_type": "execute_result"
    }
   ],
   "source": [
    "import numpy as np\n",
    "from scipy.stats import zscore\n",
    "out_feature=data[[\"capacity_mw\"]]\n",
    "z=np.abs(zscore(out_feature))\n",
    "z"
   ]
  },
  {
   "cell_type": "code",
   "execution_count": 177,
   "id": "cf475c7d",
   "metadata": {},
   "outputs": [
    {
     "data": {
      "text/plain": [
       "(array([ 15, 143, 147, 209, 308, 363, 364, 375, 482, 493, 494, 648, 657,\n",
       "        695, 726, 767, 786, 788, 808, 880], dtype=int64),\n",
       " array([0, 0, 0, 0, 0, 0, 0, 0, 0, 0, 0, 0, 0, 0, 0, 0, 0, 0, 0, 0],\n",
       "       dtype=int64))"
      ]
     },
     "execution_count": 177,
     "metadata": {},
     "output_type": "execute_result"
    }
   ],
   "source": [
    "np.where(z>3)"
   ]
  },
  {
   "cell_type": "code",
   "execution_count": 178,
   "id": "cdc6ad91",
   "metadata": {},
   "outputs": [
    {
     "data": {
      "text/plain": [
       "3.906294028602196"
      ]
     },
     "execution_count": 178,
     "metadata": {},
     "output_type": "execute_result"
    }
   ],
   "source": [
    "z.iloc[15,0]"
   ]
  },
  {
   "cell_type": "code",
   "execution_count": 179,
   "id": "d3fc01cc",
   "metadata": {},
   "outputs": [
    {
     "data": {
      "text/plain": [
       "(887, 2)"
      ]
     },
     "execution_count": 179,
     "metadata": {},
     "output_type": "execute_result"
    }
   ],
   "source": [
    "#removing the data above z score and ceating new data frame\n",
    "data1=data[(z<3).all(axis=1)]\n",
    "data1.shape"
   ]
  },
  {
   "cell_type": "code",
   "execution_count": 180,
   "id": "49ec025a",
   "metadata": {},
   "outputs": [
    {
     "name": "stdout",
     "output_type": "stream",
     "text": [
      "data loss percentage:- 0.2\n"
     ]
    }
   ],
   "source": [
    "print(\"data loss percentage:-\",((data.shape[0])-data1.shape[0])/100)"
   ]
  },
  {
   "cell_type": "code",
   "execution_count": 181,
   "id": "691affaf",
   "metadata": {},
   "outputs": [
    {
     "name": "stderr",
     "output_type": "stream",
     "text": [
      "C:\\Users\\ADMIN\\AppData\\Local\\Temp\\ipykernel_9368\\2128461393.py:1: FutureWarning: Dropping of nuisance columns in DataFrame reductions (with 'numeric_only=None') is deprecated; in a future version this will raise TypeError.  Select only valid columns before calling the reduction.\n",
      "  data.skew()#-05 to +0.5\n"
     ]
    },
    {
     "data": {
      "text/plain": [
       "capacity_mw    3.123576\n",
       "dtype: float64"
      ]
     },
     "execution_count": 181,
     "metadata": {},
     "output_type": "execute_result"
    }
   ],
   "source": [
    "data.skew()#-05 to +0.5"
   ]
  },
  {
   "cell_type": "code",
   "execution_count": 182,
   "id": "f41631a0",
   "metadata": {},
   "outputs": [],
   "source": [
    "import numpy as np\n",
    "data['capacity_mw'] = np.cbrt(data['capacity_mw'])\n",
    "\n"
   ]
  },
  {
   "cell_type": "code",
   "execution_count": 183,
   "id": "6f0a57c0",
   "metadata": {},
   "outputs": [
    {
     "name": "stderr",
     "output_type": "stream",
     "text": [
      "C:\\Users\\ADMIN\\AppData\\Local\\Temp\\ipykernel_9368\\1188251951.py:1: FutureWarning: Dropping of nuisance columns in DataFrame reductions (with 'numeric_only=None') is deprecated; in a future version this will raise TypeError.  Select only valid columns before calling the reduction.\n",
      "  data.skew()\n"
     ]
    },
    {
     "data": {
      "text/plain": [
       "capacity_mw    1.013378\n",
       "dtype: float64"
      ]
     },
     "execution_count": 183,
     "metadata": {},
     "output_type": "execute_result"
    }
   ],
   "source": [
    "data.skew()"
   ]
  },
  {
   "cell_type": "code",
   "execution_count": 184,
   "id": "d692f769",
   "metadata": {},
   "outputs": [
    {
     "name": "stderr",
     "output_type": "stream",
     "text": [
      "C:\\Users\\ADMIN\\anaconda3\\lib\\site-packages\\seaborn\\distributions.py:2619: FutureWarning: `distplot` is a deprecated function and will be removed in a future version. Please adapt your code to use either `displot` (a figure-level function with similar flexibility) or `kdeplot` (an axes-level function for kernel density plots).\n",
      "  warnings.warn(msg, FutureWarning)\n"
     ]
    },
    {
     "data": {
      "image/png": "[encoded data removed]",
      "text/plain": [
       "<Figure size 640x480 with 1 Axes>"
      ]
     },
     "metadata": {},
     "output_type": "display_data"
    }
   ],
   "source": [
    "sns.distplot(data[\"capacity_mw\"], color=\"m\", kde_kws={\"shade\": True}, hist=False)\n",
    "plt.show()\n"
   ]
  },
  {
   "cell_type": "markdown",
   "id": "5778ba84",
   "metadata": {},
   "source": [
    "looks normal almost"
   ]
  },
  {
   "cell_type": "markdown",
   "id": "24b133c1",
   "metadata": {},
   "source": [
    "Encoding Categorical Columns"
   ]
  },
  {
   "cell_type": "code",
   "execution_count": 186,
   "id": "ae509f9f",
   "metadata": {},
   "outputs": [
    {
     "name": "stderr",
     "output_type": "stream",
     "text": [
      "C:\\Users\\ADMIN\\AppData\\Local\\Temp\\ipykernel_9368\\1897818799.py:5: SettingWithCopyWarning: \n",
      "A value is trying to be set on a copy of a slice from a DataFrame.\n",
      "Try using .loc[row_indexer,col_indexer] = value instead\n",
      "\n",
      "See the caveats in the documentation: https://pandas.pydata.org/pandas-docs/stable/user_guide/indexing.html#returning-a-view-versus-a-copy\n",
      "  data1[i]=OE.fit_transform(data1[i].values.reshape(-1,1))\n"
     ]
    },
    {
     "data": {
      "text/html": [
       "<div>\n",
       "<style scoped>\n",
       "    .dataframe tbody tr th:only-of-type {\n",
       "        vertical-align: middle;\n",
       "    }\n",
       "\n",
       "    .dataframe tbody tr th {\n",
       "        vertical-align: top;\n",
       "    }\n",
       "\n",
       "    .dataframe thead th {\n",
       "        text-align: right;\n",
       "    }\n",
       "</style>\n",
       "<table border=\"1\" class=\"dataframe\">\n",
       "  <thead>\n",
       "    <tr style=\"text-align: right;\">\n",
       "      <th></th>\n",
       "      <th>primary_fuel</th>\n",
       "      <th>capacity_mw</th>\n",
       "    </tr>\n",
       "  </thead>\n",
       "  <tbody>\n",
       "    <tr>\n",
       "      <th>0</th>\n",
       "      <td>6.0</td>\n",
       "      <td>2.5</td>\n",
       "    </tr>\n",
       "    <tr>\n",
       "      <th>1</th>\n",
       "      <td>1.0</td>\n",
       "      <td>98.0</td>\n",
       "    </tr>\n",
       "    <tr>\n",
       "      <th>2</th>\n",
       "      <td>7.0</td>\n",
       "      <td>39.2</td>\n",
       "    </tr>\n",
       "    <tr>\n",
       "      <th>3</th>\n",
       "      <td>2.0</td>\n",
       "      <td>135.0</td>\n",
       "    </tr>\n",
       "    <tr>\n",
       "      <th>4</th>\n",
       "      <td>1.0</td>\n",
       "      <td>1800.0</td>\n",
       "    </tr>\n",
       "    <tr>\n",
       "      <th>...</th>\n",
       "      <td>...</td>\n",
       "      <td>...</td>\n",
       "    </tr>\n",
       "    <tr>\n",
       "      <th>902</th>\n",
       "      <td>1.0</td>\n",
       "      <td>1600.0</td>\n",
       "    </tr>\n",
       "    <tr>\n",
       "      <th>903</th>\n",
       "      <td>6.0</td>\n",
       "      <td>3.0</td>\n",
       "    </tr>\n",
       "    <tr>\n",
       "      <th>904</th>\n",
       "      <td>7.0</td>\n",
       "      <td>25.5</td>\n",
       "    </tr>\n",
       "    <tr>\n",
       "      <th>905</th>\n",
       "      <td>1.0</td>\n",
       "      <td>80.0</td>\n",
       "    </tr>\n",
       "    <tr>\n",
       "      <th>906</th>\n",
       "      <td>7.0</td>\n",
       "      <td>16.5</td>\n",
       "    </tr>\n",
       "  </tbody>\n",
       "</table>\n",
       "<p>887 rows × 2 columns</p>\n",
       "</div>"
      ],
      "text/plain": [
       "     primary_fuel  capacity_mw\n",
       "0             6.0          2.5\n",
       "1             1.0         98.0\n",
       "2             7.0         39.2\n",
       "3             2.0        135.0\n",
       "4             1.0       1800.0\n",
       "..            ...          ...\n",
       "902           1.0       1600.0\n",
       "903           6.0          3.0\n",
       "904           7.0         25.5\n",
       "905           1.0         80.0\n",
       "906           7.0         16.5\n",
       "\n",
       "[887 rows x 2 columns]"
      ]
     },
     "execution_count": 186,
     "metadata": {},
     "output_type": "execute_result"
    }
   ],
   "source": [
    "from sklearn.preprocessing import OrdinalEncoder\n",
    "OE=OrdinalEncoder()\n",
    "for i in data1.columns:\n",
    "    if data1[i].dtypes==\"object\":\n",
    "        data1[i]=OE.fit_transform(data1[i].values.reshape(-1,1))\n",
    "data1"
   ]
  },
  {
   "cell_type": "code",
   "execution_count": 187,
   "id": "91ea606b",
   "metadata": {},
   "outputs": [
    {
     "name": "stdout",
     "output_type": "stream",
     "text": [
      "<class 'pandas.core.frame.DataFrame'>\n",
      "Int64Index: 887 entries, 0 to 906\n",
      "Data columns (total 2 columns):\n",
      " #   Column        Non-Null Count  Dtype  \n",
      "---  ------        --------------  -----  \n",
      " 0   primary_fuel  887 non-null    float64\n",
      " 1   capacity_mw   887 non-null    float64\n",
      "dtypes: float64(2)\n",
      "memory usage: 20.8 KB\n"
     ]
    }
   ],
   "source": [
    "data1.info()"
   ]
  },
  {
   "cell_type": "code",
   "execution_count": 188,
   "id": "d939858d",
   "metadata": {},
   "outputs": [
    {
     "data": {
      "text/html": [
       "<div>\n",
       "<style scoped>\n",
       "    .dataframe tbody tr th:only-of-type {\n",
       "        vertical-align: middle;\n",
       "    }\n",
       "\n",
       "    .dataframe tbody tr th {\n",
       "        vertical-align: top;\n",
       "    }\n",
       "\n",
       "    .dataframe thead th {\n",
       "        text-align: right;\n",
       "    }\n",
       "</style>\n",
       "<table border=\"1\" class=\"dataframe\">\n",
       "  <thead>\n",
       "    <tr style=\"text-align: right;\">\n",
       "      <th></th>\n",
       "      <th>primary_fuel</th>\n",
       "      <th>capacity_mw</th>\n",
       "    </tr>\n",
       "  </thead>\n",
       "  <tbody>\n",
       "    <tr>\n",
       "      <th>count</th>\n",
       "      <td>887.000000</td>\n",
       "      <td>887.000000</td>\n",
       "    </tr>\n",
       "    <tr>\n",
       "      <th>mean</th>\n",
       "      <td>3.255919</td>\n",
       "      <td>266.871416</td>\n",
       "    </tr>\n",
       "    <tr>\n",
       "      <th>std</th>\n",
       "      <td>2.281763</td>\n",
       "      <td>427.766671</td>\n",
       "    </tr>\n",
       "    <tr>\n",
       "      <th>min</th>\n",
       "      <td>0.000000</td>\n",
       "      <td>0.000000</td>\n",
       "    </tr>\n",
       "    <tr>\n",
       "      <th>25%</th>\n",
       "      <td>1.000000</td>\n",
       "      <td>16.500000</td>\n",
       "    </tr>\n",
       "    <tr>\n",
       "      <th>50%</th>\n",
       "      <td>3.000000</td>\n",
       "      <td>50.700000</td>\n",
       "    </tr>\n",
       "    <tr>\n",
       "      <th>75%</th>\n",
       "      <td>6.000000</td>\n",
       "      <td>305.000000</td>\n",
       "    </tr>\n",
       "    <tr>\n",
       "      <th>max</th>\n",
       "      <td>7.000000</td>\n",
       "      <td>2000.000000</td>\n",
       "    </tr>\n",
       "  </tbody>\n",
       "</table>\n",
       "</div>"
      ],
      "text/plain": [
       "       primary_fuel  capacity_mw\n",
       "count    887.000000   887.000000\n",
       "mean       3.255919   266.871416\n",
       "std        2.281763   427.766671\n",
       "min        0.000000     0.000000\n",
       "25%        1.000000    16.500000\n",
       "50%        3.000000    50.700000\n",
       "75%        6.000000   305.000000\n",
       "max        7.000000  2000.000000"
      ]
     },
     "execution_count": 188,
     "metadata": {},
     "output_type": "execute_result"
    }
   ],
   "source": [
    "data1.describe()"
   ]
  },
  {
   "cell_type": "markdown",
   "id": "c2473e42",
   "metadata": {},
   "source": [
    "CORRELATION BETWEEN TARGET VARIABLE AND INDEPENDENT VARIABLE"
   ]
  },
  {
   "cell_type": "code",
   "execution_count": 189,
   "id": "9add9980",
   "metadata": {},
   "outputs": [
    {
     "data": {
      "text/html": [
       "<div>\n",
       "<style scoped>\n",
       "    .dataframe tbody tr th:only-of-type {\n",
       "        vertical-align: middle;\n",
       "    }\n",
       "\n",
       "    .dataframe tbody tr th {\n",
       "        vertical-align: top;\n",
       "    }\n",
       "\n",
       "    .dataframe thead th {\n",
       "        text-align: right;\n",
       "    }\n",
       "</style>\n",
       "<table border=\"1\" class=\"dataframe\">\n",
       "  <thead>\n",
       "    <tr style=\"text-align: right;\">\n",
       "      <th></th>\n",
       "      <th>primary_fuel</th>\n",
       "      <th>capacity_mw</th>\n",
       "    </tr>\n",
       "  </thead>\n",
       "  <tbody>\n",
       "    <tr>\n",
       "      <th>primary_fuel</th>\n",
       "      <td>1.00000</td>\n",
       "      <td>-0.39899</td>\n",
       "    </tr>\n",
       "    <tr>\n",
       "      <th>capacity_mw</th>\n",
       "      <td>-0.39899</td>\n",
       "      <td>1.00000</td>\n",
       "    </tr>\n",
       "  </tbody>\n",
       "</table>\n",
       "</div>"
      ],
      "text/plain": [
       "              primary_fuel  capacity_mw\n",
       "primary_fuel       1.00000     -0.39899\n",
       "capacity_mw       -0.39899      1.00000"
      ]
     },
     "execution_count": 189,
     "metadata": {},
     "output_type": "execute_result"
    }
   ],
   "source": [
    "corr=data1.corr()\n",
    "corr"
   ]
  },
  {
   "cell_type": "code",
   "execution_count": 190,
   "id": "4fde304b",
   "metadata": {},
   "outputs": [
    {
     "data": {
      "image/png": "[encoded data removed]",
      "text/plain": [
       "<Figure size 2000x2500 with 2 Axes>"
      ]
     },
     "metadata": {},
     "output_type": "display_data"
    }
   ],
   "source": [
    "plt.figure(figsize=(20,25))\n",
    "sns.heatmap(data.corr(),linewidth=0.1,fmt=\"0.1g\",linecolor=\"black\",annot=True,cmap=\"Blues_r\")\n",
    "plt.yticks(rotation=0)\n",
    "plt.show()"
   ]
  },
  {
   "cell_type": "markdown",
   "id": "d1432b51",
   "metadata": {},
   "source": [
    "HEAT MAP CONSISTS OF BOTH POSITIVE AND NEGATIVE CORELATION. tOTAL VOLUME AND 4225 AND LARGE BAG HAVE POSITIVE CORELATION WITH TARGET. tYPE HAS HIGH CORELATION. "
   ]
  },
  {
   "cell_type": "code",
   "execution_count": 191,
   "id": "1d05095f",
   "metadata": {
    "scrolled": true
   },
   "outputs": [
    {
     "data": {
      "text/plain": [
       "primary_fuel    1.00000\n",
       "capacity_mw    -0.39899\n",
       "Name: primary_fuel, dtype: float64"
      ]
     },
     "execution_count": 191,
     "metadata": {},
     "output_type": "execute_result"
    }
   ],
   "source": [
    "corr[\"primary_fuel\"].sort_values(ascending=False)"
   ]
  },
  {
   "cell_type": "code",
   "execution_count": 72,
   "id": "21c1129f",
   "metadata": {},
   "outputs": [
    {
     "data": {
      "image/png": "[encoded data removed]",
      "text/plain": [
       "<Figure size 2200x700 with 1 Axes>"
      ]
     },
     "metadata": {},
     "output_type": "display_data"
    }
   ],
   "source": [
    "plt.figure(figsize=(22,7), facecolor=\"white\")\n",
    "data1.corr()[\"primary_fuel\"].sort_values(ascending=False).drop([\"url\"]).plot(kind=\"bar\",color=\"m\")\n",
    "plt.xlabel(\"Features\", fontsize=15)  # Set a single x-label for all features\n",
    "plt.ylabel(\"primary_fuel\", fontsize=15)\n",
    "plt.title(\"Correlation between target and feature using bar plot\", fontsize=20)\n",
    "plt.xticks(rotation=45)  # Rotate x-labels if needed\n",
    "plt.show()\n"
   ]
  },
  {
   "cell_type": "markdown",
   "id": "a15998cd",
   "metadata": {},
   "source": [
    "Seprating featires and labels"
   ]
  },
  {
   "cell_type": "code",
   "execution_count": 192,
   "id": "c4f66e67",
   "metadata": {},
   "outputs": [],
   "source": [
    "x=data1.drop(\"primary_fuel\",axis=1)\n",
    "y=data1[\"primary_fuel\"]"
   ]
  },
  {
   "cell_type": "code",
   "execution_count": 193,
   "id": "a6d2076e",
   "metadata": {},
   "outputs": [
    {
     "data": {
      "text/html": [
       "<div>\n",
       "<style scoped>\n",
       "    .dataframe tbody tr th:only-of-type {\n",
       "        vertical-align: middle;\n",
       "    }\n",
       "\n",
       "    .dataframe tbody tr th {\n",
       "        vertical-align: top;\n",
       "    }\n",
       "\n",
       "    .dataframe thead th {\n",
       "        text-align: right;\n",
       "    }\n",
       "</style>\n",
       "<table border=\"1\" class=\"dataframe\">\n",
       "  <thead>\n",
       "    <tr style=\"text-align: right;\">\n",
       "      <th></th>\n",
       "      <th>capacity_mw</th>\n",
       "    </tr>\n",
       "  </thead>\n",
       "  <tbody>\n",
       "    <tr>\n",
       "      <th>0</th>\n",
       "      <td>-0.618376</td>\n",
       "    </tr>\n",
       "    <tr>\n",
       "      <th>1</th>\n",
       "      <td>-0.394997</td>\n",
       "    </tr>\n",
       "    <tr>\n",
       "      <th>2</th>\n",
       "      <td>-0.532533</td>\n",
       "    </tr>\n",
       "    <tr>\n",
       "      <th>3</th>\n",
       "      <td>-0.308453</td>\n",
       "    </tr>\n",
       "    <tr>\n",
       "      <th>4</th>\n",
       "      <td>3.586052</td>\n",
       "    </tr>\n",
       "    <tr>\n",
       "      <th>...</th>\n",
       "      <td>...</td>\n",
       "    </tr>\n",
       "    <tr>\n",
       "      <th>882</th>\n",
       "      <td>3.118244</td>\n",
       "    </tr>\n",
       "    <tr>\n",
       "      <th>883</th>\n",
       "      <td>-0.617206</td>\n",
       "    </tr>\n",
       "    <tr>\n",
       "      <th>884</th>\n",
       "      <td>-0.564578</td>\n",
       "    </tr>\n",
       "    <tr>\n",
       "      <th>885</th>\n",
       "      <td>-0.437100</td>\n",
       "    </tr>\n",
       "    <tr>\n",
       "      <th>886</th>\n",
       "      <td>-0.585629</td>\n",
       "    </tr>\n",
       "  </tbody>\n",
       "</table>\n",
       "<p>887 rows × 1 columns</p>\n",
       "</div>"
      ],
      "text/plain": [
       "     capacity_mw\n",
       "0      -0.618376\n",
       "1      -0.394997\n",
       "2      -0.532533\n",
       "3      -0.308453\n",
       "4       3.586052\n",
       "..           ...\n",
       "882     3.118244\n",
       "883    -0.617206\n",
       "884    -0.564578\n",
       "885    -0.437100\n",
       "886    -0.585629\n",
       "\n",
       "[887 rows x 1 columns]"
      ]
     },
     "execution_count": 193,
     "metadata": {},
     "output_type": "execute_result"
    }
   ],
   "source": [
    "from sklearn.preprocessing import StandardScaler\n",
    "scaler = StandardScaler()\n",
    "x=pd.DataFrame(scaler.fit_transform(x),columns=x.columns)\n",
    "x"
   ]
  },
  {
   "cell_type": "code",
   "execution_count": 194,
   "id": "1a6ffa1e",
   "metadata": {},
   "outputs": [
    {
     "name": "stdout",
     "output_type": "stream",
     "text": [
      "(887, 1)\n"
     ]
    }
   ],
   "source": [
    "print(x.shape)"
   ]
  },
  {
   "cell_type": "code",
   "execution_count": 120,
   "id": "1e246994",
   "metadata": {},
   "outputs": [
    {
     "data": {
      "text/plain": [
       "1.0    258\n",
       "3.0    251\n",
       "6.0    126\n",
       "7.0    123\n",
       "2.0     69\n",
       "0.0     50\n",
       "5.0     20\n",
       "4.0      9\n",
       "Name: primary_fuel, dtype: int64"
      ]
     },
     "execution_count": 120,
     "metadata": {},
     "output_type": "execute_result"
    }
   ],
   "source": [
    "y.value_counts()"
   ]
  },
  {
   "cell_type": "markdown",
   "id": "fec33fa2",
   "metadata": {},
   "source": [
    "The data is balanced"
   ]
  },
  {
   "cell_type": "markdown",
   "id": "ef89a487",
   "metadata": {},
   "source": [
    "MODELLING"
   ]
  },
  {
   "cell_type": "code",
   "execution_count": 219,
   "id": "64d8f25c",
   "metadata": {},
   "outputs": [],
   "source": [
    "from sklearn.compose import ColumnTransformer\n",
    "from sklearn.preprocessing import OneHotEncoder\n",
    "# Perform one-hot encoding on the categorical columns\n",
    "# Separate the features (X) and target variable (y)\n",
    "X = data.drop('capacity_mw', axis=1)\n",
    "y = data['capacity_mw']\n",
    "\n",
    "# Identify categorical columns for one-hot encoding\n",
    "categorical_columns = ['primary_fuel']\n",
    "\n",
    "transformer = ColumnTransformer([('one_hot_encoder', OneHotEncoder(), categorical_columns)], remainder='passthrough')\n",
    "X_encoded = transformer.fit_transform(X)"
   ]
  },
  {
   "cell_type": "code",
   "execution_count": 256,
   "id": "7418aa7e",
   "metadata": {},
   "outputs": [
    {
     "ename": "ValueError",
     "evalue": "No rows remaining after dropping specified fuels.",
     "output_type": "error",
     "traceback": [
      "\u001b[1;31m---------------------------------------------------------------------------\u001b[0m",
      "\u001b[1;31mValueError\u001b[0m                                Traceback (most recent call last)",
      "\u001b[1;32m~\\AppData\\Local\\Temp\\ipykernel_9368\\1123803044.py\u001b[0m in \u001b[0;36m<module>\u001b[1;34m\u001b[0m\n\u001b[0;32m     12\u001b[0m \u001b[1;31m# Check if any rows remain in the dataset\u001b[0m\u001b[1;33m\u001b[0m\u001b[1;33m\u001b[0m\u001b[0m\n\u001b[0;32m     13\u001b[0m \u001b[1;32mif\u001b[0m \u001b[0mdata\u001b[0m\u001b[1;33m.\u001b[0m\u001b[0mshape\u001b[0m\u001b[1;33m[\u001b[0m\u001b[1;36m0\u001b[0m\u001b[1;33m]\u001b[0m \u001b[1;33m==\u001b[0m \u001b[1;36m0\u001b[0m\u001b[1;33m:\u001b[0m\u001b[1;33m\u001b[0m\u001b[1;33m\u001b[0m\u001b[0m\n\u001b[1;32m---> 14\u001b[1;33m     \u001b[1;32mraise\u001b[0m \u001b[0mValueError\u001b[0m\u001b[1;33m(\u001b[0m\u001b[1;34m\"No rows remaining after dropping specified fuels.\"\u001b[0m\u001b[1;33m)\u001b[0m\u001b[1;33m\u001b[0m\u001b[1;33m\u001b[0m\u001b[0m\n\u001b[0m\u001b[0;32m     15\u001b[0m \u001b[1;33m\u001b[0m\u001b[0m\n\u001b[0;32m     16\u001b[0m \u001b[1;31m# Select the features and target variable\u001b[0m\u001b[1;33m\u001b[0m\u001b[1;33m\u001b[0m\u001b[0m\n",
      "\u001b[1;31mValueError\u001b[0m: No rows remaining after dropping specified fuels."
     ]
    }
   ],
   "source": [
    "\n",
    "from sklearn.model_selection import train_test_split\n",
    "from sklearn.metrics import mean_squared_error\n",
    "from sklearn.ensemble import GradientBoostingRegressor\n",
    "from category_encoders import OrdinalEncoder\n",
    "from sklearn.impute import SimpleImputer\n",
    "from sklearn.preprocessing import StandardScaler\n",
    "\n",
    "# Drop rows where 'primary_fuel' is in the specified list\n",
    "drop_fuels = ['Coal', 'Hydro', 'Gas', 'Wind', 'Solar', 'Oil', 'Nuclear', 'Biomass']\n",
    "data = data[~data['primary_fuel'].isin(drop_fuels)]\n",
    "\n",
    "# Check if any rows remain in the dataset\n",
    "if data.shape[0] == 0:\n",
    "    raise ValueError(\"No rows remaining after dropping specified fuels.\")\n",
    "\n",
    "# Select the features and target variable\n",
    "X = data.drop('capacity_mw', axis=1)\n",
    "y = data['capacity_mw']\n",
    "\n",
    "# Perform one-hot encoding on the 'primary_fuel' column\n",
    "encoder = OrdinalEncoder(cols=['primary_fuel'])\n",
    "X_encoded = encoder.fit_transform(X)\n",
    "\n",
    "# Split the data into training and testing sets\n",
    "X_train, X_test, y_train, y_test = train_test_split(X_encoded, y, test_size=0.3, random_state=42)\n",
    "\n",
    "# Train the Gradient Boosting Regressor model\n",
    "model = GradientBoostingRegressor()\n",
    "model.fit(X_train, y_train)\n",
    "\n",
    "# Make predictions on the testing data\n",
    "y_pred = model.predict(X_test)\n",
    "\n",
    "# Evaluate the performance of the model using mean squared error\n",
    "mse = mean_squared_error(y_test, y_pred)\n",
    "print(\"Mean Squared Error:\", mse)\n"
   ]
  },
  {
   "cell_type": "code",
   "execution_count": 252,
   "id": "0d050647",
   "metadata": {},
   "outputs": [
    {
     "ename": "ValueError",
     "evalue": "could not convert string to float: 'Biomass'",
     "output_type": "error",
     "traceback": [
      "\u001b[1;31m---------------------------------------------------------------------------\u001b[0m",
      "\u001b[1;31mValueError\u001b[0m                                Traceback (most recent call last)",
      "\u001b[1;32m~\\AppData\\Local\\Temp\\ipykernel_9368\\869247644.py\u001b[0m in \u001b[0;36m<module>\u001b[1;34m\u001b[0m\n\u001b[0;32m      9\u001b[0m \u001b[1;31m# Choose a regression algorithm and train the model\u001b[0m\u001b[1;33m\u001b[0m\u001b[1;33m\u001b[0m\u001b[0m\n\u001b[0;32m     10\u001b[0m \u001b[0mmodel\u001b[0m \u001b[1;33m=\u001b[0m \u001b[0mLinearRegression\u001b[0m\u001b[1;33m(\u001b[0m\u001b[1;33m)\u001b[0m\u001b[1;33m\u001b[0m\u001b[1;33m\u001b[0m\u001b[0m\n\u001b[1;32m---> 11\u001b[1;33m \u001b[0mmodel\u001b[0m\u001b[1;33m.\u001b[0m\u001b[0mfit\u001b[0m\u001b[1;33m(\u001b[0m\u001b[0mX_train\u001b[0m\u001b[1;33m,\u001b[0m \u001b[0my_train\u001b[0m\u001b[1;33m)\u001b[0m\u001b[1;33m\u001b[0m\u001b[1;33m\u001b[0m\u001b[0m\n\u001b[0m\u001b[0;32m     12\u001b[0m \u001b[1;33m\u001b[0m\u001b[0m\n\u001b[0;32m     13\u001b[0m \u001b[1;31m# Make predictions on the testing data\u001b[0m\u001b[1;33m\u001b[0m\u001b[1;33m\u001b[0m\u001b[0m\n",
      "\u001b[1;32m~\\anaconda3\\lib\\site-packages\\sklearn\\linear_model\\_base.py\u001b[0m in \u001b[0;36mfit\u001b[1;34m(self, X, y, sample_weight)\u001b[0m\n\u001b[0;32m    660\u001b[0m         \u001b[0maccept_sparse\u001b[0m \u001b[1;33m=\u001b[0m \u001b[1;32mFalse\u001b[0m \u001b[1;32mif\u001b[0m \u001b[0mself\u001b[0m\u001b[1;33m.\u001b[0m\u001b[0mpositive\u001b[0m \u001b[1;32melse\u001b[0m \u001b[1;33m[\u001b[0m\u001b[1;34m\"csr\"\u001b[0m\u001b[1;33m,\u001b[0m \u001b[1;34m\"csc\"\u001b[0m\u001b[1;33m,\u001b[0m \u001b[1;34m\"coo\"\u001b[0m\u001b[1;33m]\u001b[0m\u001b[1;33m\u001b[0m\u001b[1;33m\u001b[0m\u001b[0m\n\u001b[0;32m    661\u001b[0m \u001b[1;33m\u001b[0m\u001b[0m\n\u001b[1;32m--> 662\u001b[1;33m         X, y = self._validate_data(\n\u001b[0m\u001b[0;32m    663\u001b[0m             \u001b[0mX\u001b[0m\u001b[1;33m,\u001b[0m \u001b[0my\u001b[0m\u001b[1;33m,\u001b[0m \u001b[0maccept_sparse\u001b[0m\u001b[1;33m=\u001b[0m\u001b[0maccept_sparse\u001b[0m\u001b[1;33m,\u001b[0m \u001b[0my_numeric\u001b[0m\u001b[1;33m=\u001b[0m\u001b[1;32mTrue\u001b[0m\u001b[1;33m,\u001b[0m \u001b[0mmulti_output\u001b[0m\u001b[1;33m=\u001b[0m\u001b[1;32mTrue\u001b[0m\u001b[1;33m\u001b[0m\u001b[1;33m\u001b[0m\u001b[0m\n\u001b[0;32m    664\u001b[0m         )\n",
      "\u001b[1;32m~\\anaconda3\\lib\\site-packages\\sklearn\\base.py\u001b[0m in \u001b[0;36m_validate_data\u001b[1;34m(self, X, y, reset, validate_separately, **check_params)\u001b[0m\n\u001b[0;32m    579\u001b[0m                 \u001b[0my\u001b[0m \u001b[1;33m=\u001b[0m \u001b[0mcheck_array\u001b[0m\u001b[1;33m(\u001b[0m\u001b[0my\u001b[0m\u001b[1;33m,\u001b[0m \u001b[1;33m**\u001b[0m\u001b[0mcheck_y_params\u001b[0m\u001b[1;33m)\u001b[0m\u001b[1;33m\u001b[0m\u001b[1;33m\u001b[0m\u001b[0m\n\u001b[0;32m    580\u001b[0m             \u001b[1;32melse\u001b[0m\u001b[1;33m:\u001b[0m\u001b[1;33m\u001b[0m\u001b[1;33m\u001b[0m\u001b[0m\n\u001b[1;32m--> 581\u001b[1;33m                 \u001b[0mX\u001b[0m\u001b[1;33m,\u001b[0m \u001b[0my\u001b[0m \u001b[1;33m=\u001b[0m \u001b[0mcheck_X_y\u001b[0m\u001b[1;33m(\u001b[0m\u001b[0mX\u001b[0m\u001b[1;33m,\u001b[0m \u001b[0my\u001b[0m\u001b[1;33m,\u001b[0m \u001b[1;33m**\u001b[0m\u001b[0mcheck_params\u001b[0m\u001b[1;33m)\u001b[0m\u001b[1;33m\u001b[0m\u001b[1;33m\u001b[0m\u001b[0m\n\u001b[0m\u001b[0;32m    582\u001b[0m             \u001b[0mout\u001b[0m \u001b[1;33m=\u001b[0m \u001b[0mX\u001b[0m\u001b[1;33m,\u001b[0m \u001b[0my\u001b[0m\u001b[1;33m\u001b[0m\u001b[1;33m\u001b[0m\u001b[0m\n\u001b[0;32m    583\u001b[0m \u001b[1;33m\u001b[0m\u001b[0m\n",
      "\u001b[1;32m~\\anaconda3\\lib\\site-packages\\sklearn\\utils\\validation.py\u001b[0m in \u001b[0;36mcheck_X_y\u001b[1;34m(X, y, accept_sparse, accept_large_sparse, dtype, order, copy, force_all_finite, ensure_2d, allow_nd, multi_output, ensure_min_samples, ensure_min_features, y_numeric, estimator)\u001b[0m\n\u001b[0;32m    962\u001b[0m         \u001b[1;32mraise\u001b[0m \u001b[0mValueError\u001b[0m\u001b[1;33m(\u001b[0m\u001b[1;34m\"y cannot be None\"\u001b[0m\u001b[1;33m)\u001b[0m\u001b[1;33m\u001b[0m\u001b[1;33m\u001b[0m\u001b[0m\n\u001b[0;32m    963\u001b[0m \u001b[1;33m\u001b[0m\u001b[0m\n\u001b[1;32m--> 964\u001b[1;33m     X = check_array(\n\u001b[0m\u001b[0;32m    965\u001b[0m         \u001b[0mX\u001b[0m\u001b[1;33m,\u001b[0m\u001b[1;33m\u001b[0m\u001b[1;33m\u001b[0m\u001b[0m\n\u001b[0;32m    966\u001b[0m         \u001b[0maccept_sparse\u001b[0m\u001b[1;33m=\u001b[0m\u001b[0maccept_sparse\u001b[0m\u001b[1;33m,\u001b[0m\u001b[1;33m\u001b[0m\u001b[1;33m\u001b[0m\u001b[0m\n",
      "\u001b[1;32m~\\anaconda3\\lib\\site-packages\\sklearn\\utils\\validation.py\u001b[0m in \u001b[0;36mcheck_array\u001b[1;34m(array, accept_sparse, accept_large_sparse, dtype, order, copy, force_all_finite, ensure_2d, allow_nd, ensure_min_samples, ensure_min_features, estimator)\u001b[0m\n\u001b[0;32m    744\u001b[0m                     \u001b[0marray\u001b[0m \u001b[1;33m=\u001b[0m \u001b[0marray\u001b[0m\u001b[1;33m.\u001b[0m\u001b[0mastype\u001b[0m\u001b[1;33m(\u001b[0m\u001b[0mdtype\u001b[0m\u001b[1;33m,\u001b[0m \u001b[0mcasting\u001b[0m\u001b[1;33m=\u001b[0m\u001b[1;34m\"unsafe\"\u001b[0m\u001b[1;33m,\u001b[0m \u001b[0mcopy\u001b[0m\u001b[1;33m=\u001b[0m\u001b[1;32mFalse\u001b[0m\u001b[1;33m)\u001b[0m\u001b[1;33m\u001b[0m\u001b[1;33m\u001b[0m\u001b[0m\n\u001b[0;32m    745\u001b[0m                 \u001b[1;32melse\u001b[0m\u001b[1;33m:\u001b[0m\u001b[1;33m\u001b[0m\u001b[1;33m\u001b[0m\u001b[0m\n\u001b[1;32m--> 746\u001b[1;33m                     \u001b[0marray\u001b[0m \u001b[1;33m=\u001b[0m \u001b[0mnp\u001b[0m\u001b[1;33m.\u001b[0m\u001b[0masarray\u001b[0m\u001b[1;33m(\u001b[0m\u001b[0marray\u001b[0m\u001b[1;33m,\u001b[0m \u001b[0morder\u001b[0m\u001b[1;33m=\u001b[0m\u001b[0morder\u001b[0m\u001b[1;33m,\u001b[0m \u001b[0mdtype\u001b[0m\u001b[1;33m=\u001b[0m\u001b[0mdtype\u001b[0m\u001b[1;33m)\u001b[0m\u001b[1;33m\u001b[0m\u001b[1;33m\u001b[0m\u001b[0m\n\u001b[0m\u001b[0;32m    747\u001b[0m             \u001b[1;32mexcept\u001b[0m \u001b[0mComplexWarning\u001b[0m \u001b[1;32mas\u001b[0m \u001b[0mcomplex_warning\u001b[0m\u001b[1;33m:\u001b[0m\u001b[1;33m\u001b[0m\u001b[1;33m\u001b[0m\u001b[0m\n\u001b[0;32m    748\u001b[0m                 raise ValueError(\n",
      "\u001b[1;32m~\\anaconda3\\lib\\site-packages\\pandas\\core\\generic.py\u001b[0m in \u001b[0;36m__array__\u001b[1;34m(self, dtype)\u001b[0m\n\u001b[0;32m   2062\u001b[0m \u001b[1;33m\u001b[0m\u001b[0m\n\u001b[0;32m   2063\u001b[0m     \u001b[1;32mdef\u001b[0m \u001b[0m__array__\u001b[0m\u001b[1;33m(\u001b[0m\u001b[0mself\u001b[0m\u001b[1;33m,\u001b[0m \u001b[0mdtype\u001b[0m\u001b[1;33m:\u001b[0m \u001b[0mnpt\u001b[0m\u001b[1;33m.\u001b[0m\u001b[0mDTypeLike\u001b[0m \u001b[1;33m|\u001b[0m \u001b[1;32mNone\u001b[0m \u001b[1;33m=\u001b[0m \u001b[1;32mNone\u001b[0m\u001b[1;33m)\u001b[0m \u001b[1;33m->\u001b[0m \u001b[0mnp\u001b[0m\u001b[1;33m.\u001b[0m\u001b[0mndarray\u001b[0m\u001b[1;33m:\u001b[0m\u001b[1;33m\u001b[0m\u001b[1;33m\u001b[0m\u001b[0m\n\u001b[1;32m-> 2064\u001b[1;33m         \u001b[1;32mreturn\u001b[0m \u001b[0mnp\u001b[0m\u001b[1;33m.\u001b[0m\u001b[0masarray\u001b[0m\u001b[1;33m(\u001b[0m\u001b[0mself\u001b[0m\u001b[1;33m.\u001b[0m\u001b[0m_values\u001b[0m\u001b[1;33m,\u001b[0m \u001b[0mdtype\u001b[0m\u001b[1;33m=\u001b[0m\u001b[0mdtype\u001b[0m\u001b[1;33m)\u001b[0m\u001b[1;33m\u001b[0m\u001b[1;33m\u001b[0m\u001b[0m\n\u001b[0m\u001b[0;32m   2065\u001b[0m \u001b[1;33m\u001b[0m\u001b[0m\n\u001b[0;32m   2066\u001b[0m     def __array_wrap__(\n",
      "\u001b[1;31mValueError\u001b[0m: could not convert string to float: 'Biomass'"
     ]
    }
   ],
   "source": [
    "import numpy as np\n",
    "import pandas as pd\n",
    "from sklearn.linear_model import LinearRegression\n",
    "from sklearn.model_selection import train_test_split\n",
    "from sklearn.metrics import r2_score\n",
    "\n",
    "# Assuming 'data1' is your filtered DataFrame\n",
    "\n",
    "# Choose a regression algorithm and train the model\n",
    "model = LinearRegression()\n",
    "model.fit(X_train, y_train)\n",
    "\n",
    "# Make predictions on the testing data\n",
    "y_pred = model.predict(X_test)\n",
    "\n",
    "# Train the Linear Regression model\n",
    "model = LinearRegression()\n",
    "model.fit(X_train, y_train)\n",
    "\n",
    "# Make predictions on the testing data\n",
    "y_pred = model.predict(X_test)\n",
    "\n",
    "# Evaluate the performance of the model using R-squared score\n",
    "r2_score = r2_score(y_test, y_pred)\n",
    "print(\"R-squared Score:\", r2_score)\n",
    "\n",
    "# Evaluate the performance of the model using mean squared error\n",
    "mse = mean_squared_error(y_test, y_pred)\n",
    "print(\"Mean Squared Error:\", mse)\n",
    "\n",
    "\n"
   ]
  },
  {
   "cell_type": "code",
   "execution_count": 224,
   "id": "73a14e13",
   "metadata": {},
   "outputs": [
    {
     "ename": "ValueError",
     "evalue": "Found input variables with inconsistent numbers of samples: [709, 725]",
     "output_type": "error",
     "traceback": [
      "\u001b[1;31m---------------------------------------------------------------------------\u001b[0m",
      "\u001b[1;31mValueError\u001b[0m                                Traceback (most recent call last)",
      "\u001b[1;32m~\\AppData\\Local\\Temp\\ipykernel_9368\\626935721.py\u001b[0m in \u001b[0;36m<module>\u001b[1;34m\u001b[0m\n\u001b[0;32m      4\u001b[0m \u001b[1;32mfrom\u001b[0m \u001b[0msklearn\u001b[0m\u001b[1;33m.\u001b[0m\u001b[0mlinear_model\u001b[0m \u001b[1;32mimport\u001b[0m \u001b[0mLasso\u001b[0m\u001b[1;33m,\u001b[0m \u001b[0mRidge\u001b[0m\u001b[1;33m\u001b[0m\u001b[1;33m\u001b[0m\u001b[0m\n\u001b[0;32m      5\u001b[0m \u001b[0mlr\u001b[0m\u001b[1;33m=\u001b[0m\u001b[0mLinearRegression\u001b[0m\u001b[1;33m(\u001b[0m\u001b[1;33m)\u001b[0m\u001b[1;33m\u001b[0m\u001b[1;33m\u001b[0m\u001b[0m\n\u001b[1;32m----> 6\u001b[1;33m \u001b[0mlr\u001b[0m\u001b[1;33m.\u001b[0m\u001b[0mfit\u001b[0m\u001b[1;33m(\u001b[0m\u001b[0mx_train\u001b[0m\u001b[1;33m,\u001b[0m\u001b[0my_train\u001b[0m\u001b[1;33m)\u001b[0m\u001b[1;33m\u001b[0m\u001b[1;33m\u001b[0m\u001b[0m\n\u001b[0m\u001b[0;32m      7\u001b[0m \u001b[0mpred_lr\u001b[0m\u001b[1;33m=\u001b[0m\u001b[0mlr\u001b[0m\u001b[1;33m.\u001b[0m\u001b[0mpredict\u001b[0m\u001b[1;33m(\u001b[0m\u001b[0mx_test\u001b[0m\u001b[1;33m)\u001b[0m\u001b[1;33m\u001b[0m\u001b[1;33m\u001b[0m\u001b[0m\n\u001b[0;32m      8\u001b[0m \u001b[0mpred_train\u001b[0m\u001b[1;33m=\u001b[0m\u001b[0mlr\u001b[0m\u001b[1;33m.\u001b[0m\u001b[0mpredict\u001b[0m\u001b[1;33m(\u001b[0m\u001b[0mx_train\u001b[0m\u001b[1;33m)\u001b[0m\u001b[1;33m\u001b[0m\u001b[1;33m\u001b[0m\u001b[0m\n",
      "\u001b[1;32m~\\anaconda3\\lib\\site-packages\\sklearn\\linear_model\\_base.py\u001b[0m in \u001b[0;36mfit\u001b[1;34m(self, X, y, sample_weight)\u001b[0m\n\u001b[0;32m    660\u001b[0m         \u001b[0maccept_sparse\u001b[0m \u001b[1;33m=\u001b[0m \u001b[1;32mFalse\u001b[0m \u001b[1;32mif\u001b[0m \u001b[0mself\u001b[0m\u001b[1;33m.\u001b[0m\u001b[0mpositive\u001b[0m \u001b[1;32melse\u001b[0m \u001b[1;33m[\u001b[0m\u001b[1;34m\"csr\"\u001b[0m\u001b[1;33m,\u001b[0m \u001b[1;34m\"csc\"\u001b[0m\u001b[1;33m,\u001b[0m \u001b[1;34m\"coo\"\u001b[0m\u001b[1;33m]\u001b[0m\u001b[1;33m\u001b[0m\u001b[1;33m\u001b[0m\u001b[0m\n\u001b[0;32m    661\u001b[0m \u001b[1;33m\u001b[0m\u001b[0m\n\u001b[1;32m--> 662\u001b[1;33m         X, y = self._validate_data(\n\u001b[0m\u001b[0;32m    663\u001b[0m             \u001b[0mX\u001b[0m\u001b[1;33m,\u001b[0m \u001b[0my\u001b[0m\u001b[1;33m,\u001b[0m \u001b[0maccept_sparse\u001b[0m\u001b[1;33m=\u001b[0m\u001b[0maccept_sparse\u001b[0m\u001b[1;33m,\u001b[0m \u001b[0my_numeric\u001b[0m\u001b[1;33m=\u001b[0m\u001b[1;32mTrue\u001b[0m\u001b[1;33m,\u001b[0m \u001b[0mmulti_output\u001b[0m\u001b[1;33m=\u001b[0m\u001b[1;32mTrue\u001b[0m\u001b[1;33m\u001b[0m\u001b[1;33m\u001b[0m\u001b[0m\n\u001b[0;32m    664\u001b[0m         )\n",
      "\u001b[1;32m~\\anaconda3\\lib\\site-packages\\sklearn\\base.py\u001b[0m in \u001b[0;36m_validate_data\u001b[1;34m(self, X, y, reset, validate_separately, **check_params)\u001b[0m\n\u001b[0;32m    579\u001b[0m                 \u001b[0my\u001b[0m \u001b[1;33m=\u001b[0m \u001b[0mcheck_array\u001b[0m\u001b[1;33m(\u001b[0m\u001b[0my\u001b[0m\u001b[1;33m,\u001b[0m \u001b[1;33m**\u001b[0m\u001b[0mcheck_y_params\u001b[0m\u001b[1;33m)\u001b[0m\u001b[1;33m\u001b[0m\u001b[1;33m\u001b[0m\u001b[0m\n\u001b[0;32m    580\u001b[0m             \u001b[1;32melse\u001b[0m\u001b[1;33m:\u001b[0m\u001b[1;33m\u001b[0m\u001b[1;33m\u001b[0m\u001b[0m\n\u001b[1;32m--> 581\u001b[1;33m                 \u001b[0mX\u001b[0m\u001b[1;33m,\u001b[0m \u001b[0my\u001b[0m \u001b[1;33m=\u001b[0m \u001b[0mcheck_X_y\u001b[0m\u001b[1;33m(\u001b[0m\u001b[0mX\u001b[0m\u001b[1;33m,\u001b[0m \u001b[0my\u001b[0m\u001b[1;33m,\u001b[0m \u001b[1;33m**\u001b[0m\u001b[0mcheck_params\u001b[0m\u001b[1;33m)\u001b[0m\u001b[1;33m\u001b[0m\u001b[1;33m\u001b[0m\u001b[0m\n\u001b[0m\u001b[0;32m    582\u001b[0m             \u001b[0mout\u001b[0m \u001b[1;33m=\u001b[0m \u001b[0mX\u001b[0m\u001b[1;33m,\u001b[0m \u001b[0my\u001b[0m\u001b[1;33m\u001b[0m\u001b[1;33m\u001b[0m\u001b[0m\n\u001b[0;32m    583\u001b[0m \u001b[1;33m\u001b[0m\u001b[0m\n",
      "\u001b[1;32m~\\anaconda3\\lib\\site-packages\\sklearn\\utils\\validation.py\u001b[0m in \u001b[0;36mcheck_X_y\u001b[1;34m(X, y, accept_sparse, accept_large_sparse, dtype, order, copy, force_all_finite, ensure_2d, allow_nd, multi_output, ensure_min_samples, ensure_min_features, y_numeric, estimator)\u001b[0m\n\u001b[0;32m    979\u001b[0m     \u001b[0my\u001b[0m \u001b[1;33m=\u001b[0m \u001b[0m_check_y\u001b[0m\u001b[1;33m(\u001b[0m\u001b[0my\u001b[0m\u001b[1;33m,\u001b[0m \u001b[0mmulti_output\u001b[0m\u001b[1;33m=\u001b[0m\u001b[0mmulti_output\u001b[0m\u001b[1;33m,\u001b[0m \u001b[0my_numeric\u001b[0m\u001b[1;33m=\u001b[0m\u001b[0my_numeric\u001b[0m\u001b[1;33m)\u001b[0m\u001b[1;33m\u001b[0m\u001b[1;33m\u001b[0m\u001b[0m\n\u001b[0;32m    980\u001b[0m \u001b[1;33m\u001b[0m\u001b[0m\n\u001b[1;32m--> 981\u001b[1;33m     \u001b[0mcheck_consistent_length\u001b[0m\u001b[1;33m(\u001b[0m\u001b[0mX\u001b[0m\u001b[1;33m,\u001b[0m \u001b[0my\u001b[0m\u001b[1;33m)\u001b[0m\u001b[1;33m\u001b[0m\u001b[1;33m\u001b[0m\u001b[0m\n\u001b[0m\u001b[0;32m    982\u001b[0m \u001b[1;33m\u001b[0m\u001b[0m\n\u001b[0;32m    983\u001b[0m     \u001b[1;32mreturn\u001b[0m \u001b[0mX\u001b[0m\u001b[1;33m,\u001b[0m \u001b[0my\u001b[0m\u001b[1;33m\u001b[0m\u001b[1;33m\u001b[0m\u001b[0m\n",
      "\u001b[1;32m~\\anaconda3\\lib\\site-packages\\sklearn\\utils\\validation.py\u001b[0m in \u001b[0;36mcheck_consistent_length\u001b[1;34m(*arrays)\u001b[0m\n\u001b[0;32m    330\u001b[0m     \u001b[0muniques\u001b[0m \u001b[1;33m=\u001b[0m \u001b[0mnp\u001b[0m\u001b[1;33m.\u001b[0m\u001b[0munique\u001b[0m\u001b[1;33m(\u001b[0m\u001b[0mlengths\u001b[0m\u001b[1;33m)\u001b[0m\u001b[1;33m\u001b[0m\u001b[1;33m\u001b[0m\u001b[0m\n\u001b[0;32m    331\u001b[0m     \u001b[1;32mif\u001b[0m \u001b[0mlen\u001b[0m\u001b[1;33m(\u001b[0m\u001b[0muniques\u001b[0m\u001b[1;33m)\u001b[0m \u001b[1;33m>\u001b[0m \u001b[1;36m1\u001b[0m\u001b[1;33m:\u001b[0m\u001b[1;33m\u001b[0m\u001b[1;33m\u001b[0m\u001b[0m\n\u001b[1;32m--> 332\u001b[1;33m         raise ValueError(\n\u001b[0m\u001b[0;32m    333\u001b[0m             \u001b[1;34m\"Found input variables with inconsistent numbers of samples: %r\"\u001b[0m\u001b[1;33m\u001b[0m\u001b[1;33m\u001b[0m\u001b[0m\n\u001b[0;32m    334\u001b[0m             \u001b[1;33m%\u001b[0m \u001b[1;33m[\u001b[0m\u001b[0mint\u001b[0m\u001b[1;33m(\u001b[0m\u001b[0ml\u001b[0m\u001b[1;33m)\u001b[0m \u001b[1;32mfor\u001b[0m \u001b[0ml\u001b[0m \u001b[1;32min\u001b[0m \u001b[0mlengths\u001b[0m\u001b[1;33m]\u001b[0m\u001b[1;33m\u001b[0m\u001b[1;33m\u001b[0m\u001b[0m\n",
      "\u001b[1;31mValueError\u001b[0m: Found input variables with inconsistent numbers of samples: [709, 725]"
     ]
    }
   ],
   "source": [
    "from sklearn.ensemble import RandomForestRegressor\n",
    "from sklearn.tree import DecisionTreeRegressor\n",
    "from sklearn.neighbors import KNeighborsRegressor as knn\n",
    "from sklearn.linear_model import Lasso, Ridge\n",
    "lr=LinearRegression()\n",
    "lr.fit(x_train,y_train)\n",
    "pred_lr=lr.predict(x_test)\n",
    "pred_train=lr.predict(x_train)\n",
    "print('R2 score: ', r2_score(y_test,pred_lr))\n",
    "print('R2_score on training data: ', r2_score(y_train,pred_train)*100)\n",
    "print('Mean Absoloute Error:-', mean_absolute_error(y_test,pred_lr))\n",
    "print('Mean Squared Error:-', mean_squared_error(y_test,pred_lr))\n",
    "print('Root Mean Squared Error:-', np.sqrt (mean_squared_error(y_test,pred_lr)))\n"
   ]
  },
  {
   "cell_type": "code",
   "execution_count": 56,
   "id": "4316db35",
   "metadata": {},
   "outputs": [
    {
     "name": "stdout",
     "output_type": "stream",
     "text": [
      "R2 score:  0.8008848349385971\n",
      "R2_score on training data:  97.0747157097554\n",
      "Mean Absoloute Error:- 0.12439775070290535\n",
      "Mean Squared Error:- 0.03198705970384255\n",
      "Root Mean Squared Error:- 0.17884926531535586\n"
     ]
    }
   ],
   "source": [
    "RFR=RandomForestRegressor()\n",
    "RFR.fit(x_train,y_train)\n",
    "pred_RFR=RFR.predict(x_test)\n",
    "pred_train=RFR.predict(x_train)\n",
    "print('R2 score: ', r2_score(y_test,pred_RFR))\n",
    "print('R2_score on training data: ', r2_score(y_train,pred_train)*100)\n",
    "print('Mean Absoloute Error:-', mean_absolute_error(y_test,pred_RFR))\n",
    "print('Mean Squared Error:-', mean_squared_error(y_test,pred_RFR))\n",
    "print('Root Mean Squared Error:-', np.sqrt (mean_squared_error(y_test,pred_RFR)))"
   ]
  },
  {
   "cell_type": "code",
   "execution_count": 57,
   "id": "b3ba2e87",
   "metadata": {},
   "outputs": [
    {
     "name": "stdout",
     "output_type": "stream",
     "text": [
      "R2 score:  0.6469886412820688\n",
      "R2_score on training data:  75.9900676633224\n",
      "Mean Absoloute Error:- 0.1695771321462043\n",
      "Mean Squared Error:- 0.056709871415182744\n",
      "Root Mean Squared Error:- 0.23813834511725057\n"
     ]
    }
   ],
   "source": [
    "Knn=knn()\n",
    "Knn.fit(x_train,y_train)\n",
    "pred_Knn=Knn.predict(x_test)\n",
    "pred_train=Knn.predict(x_train)\n",
    "print('R2 score: ', r2_score(y_test,pred_Knn))\n",
    "print('R2_score on training data: ', r2_score(y_train,pred_train)*100)\n",
    "print('Mean Absoloute Error:-', mean_absolute_error(y_test,pred_Knn))\n",
    "print('Mean Squared Error:-', mean_squared_error(y_test,pred_Knn))\n",
    "print('Root Mean Squared Error:-', np.sqrt (mean_squared_error(y_test,pred_Knn)))"
   ]
  },
  {
   "cell_type": "code",
   "execution_count": 58,
   "id": "fab6d77e",
   "metadata": {},
   "outputs": [
    {
     "name": "stdout",
     "output_type": "stream",
     "text": [
      "R2 score:  0.6469886412820688\n",
      "R2_score on training data:  64.23049456538818\n",
      "Mean Absoloute Error:- 0.1695771321462043\n",
      "Mean Squared Error:- 0.056709871415182744\n",
      "Root Mean Squared Error:- 0.23813834511725057\n"
     ]
    }
   ],
   "source": [
    "GBR=GradientBoostingRegressor()\n",
    "GBR.fit(x_train,y_train)\n",
    "pred_GBR=Knn.predict(x_test)\n",
    "pred_train=GBR.predict(x_train)\n",
    "print('R2 score: ', r2_score(y_test,pred_GBR))\n",
    "print('R2_score on training data: ', r2_score(y_train,pred_train)*100)\n",
    "print('Mean Absoloute Error:-', mean_absolute_error(y_test,pred_GBR))\n",
    "print('Mean Squared Error:-', mean_squared_error(y_test,pred_GBR))\n",
    "print('Root Mean Squared Error:-', np.sqrt (mean_squared_error(y_test,pred_GBR)))"
   ]
  },
  {
   "cell_type": "code",
   "execution_count": 59,
   "id": "13cffabe",
   "metadata": {},
   "outputs": [
    {
     "name": "stdout",
     "output_type": "stream",
     "text": [
      "R2 score:  0.12164011390153207\n",
      "R2_score on training data:  12.666576385772332\n",
      "Mean Absoloute Error:- 0.30068042034326836\n",
      "Mean Squared Error:- 0.14110502386610174\n",
      "Root Mean Squared Error:- 0.3756394865640482\n"
     ]
    },
    {
     "name": "stderr",
     "output_type": "stream",
     "text": [
      "C:\\Users\\ADMIN\\anaconda3\\lib\\site-packages\\sklearn\\linear_model\\_coordinate_descent.py:647: ConvergenceWarning: Objective did not converge. You might want to increase the number of iterations, check the scale of the features or consider increasing regularisation. Duality gap: 2.056e+01, tolerance: 2.020e-01\n",
      "  model = cd_fast.enet_coordinate_descent(\n"
     ]
    }
   ],
   "source": [
    "lasso=Lasso()\n",
    "lasso.fit(x_train,y_train)\n",
    "pred_lasso=lasso.predict(x_test)\n",
    "pred_train=lasso.predict(x_train)\n",
    "print('R2 score: ', r2_score(y_test,pred_lasso))\n",
    "print('R2_score on training data: ', r2_score(y_train,pred_train)*100)\n",
    "print('Mean Absoloute Error:-', mean_absolute_error(y_test,pred_lasso))\n",
    "print('Mean Squared Error:-', mean_squared_error(y_test,pred_lasso))\n",
    "print('Root Mean Squared Error:-', np.sqrt (mean_squared_error(y_test,pred_lasso)))"
   ]
  },
  {
   "cell_type": "code",
   "execution_count": 60,
   "id": "f3aa7964",
   "metadata": {},
   "outputs": [
    {
     "name": "stdout",
     "output_type": "stream",
     "text": [
      "R2 score:  0.12680858092294944\n",
      "R2_score on training data:  13.846282552956591\n",
      "Mean Absoloute Error:- 0.30032652421595296\n",
      "Mean Squared Error:- 0.14027473018585676\n",
      "Root Mean Squared Error:- 0.37453268240015686\n"
     ]
    }
   ],
   "source": [
    "rd=Ridge()\n",
    "rd.fit(x_train,y_train)\n",
    "pred_rd=rd.predict(x_test)\n",
    "pred_train=rd.predict(x_train)\n",
    "print('R2 score: ', r2_score(y_test,pred_rd))\n",
    "print('R2_score on training data: ', r2_score(y_train,pred_train)*100)\n",
    "print('Mean Absoloute Error:-', mean_absolute_error(y_test,pred_rd))\n",
    "print('Mean Squared Error:-', mean_squared_error(y_test,pred_rd))\n",
    "print('Root Mean Squared Error:-', np.sqrt (mean_squared_error(y_test,pred_rd)))"
   ]
  },
  {
   "cell_type": "code",
   "execution_count": 61,
   "id": "223c34b8",
   "metadata": {},
   "outputs": [
    {
     "name": "stdout",
     "output_type": "stream",
     "text": [
      "R2_score: 0.5842859368016272\n"
     ]
    }
   ],
   "source": [
    "from sklearn.tree import DecisionTreeRegressor\n",
    "dtr=DecisionTreeRegressor()\n",
    "dtr.fit(x_train,y_train)\n",
    "pred_DTR=dtr.predict(x_test)\n",
    "pred_train=dtr.predict(x_train)\n",
    "print('R2_score:',r2_score(y_test,pred_DTR))"
   ]
  },
  {
   "cell_type": "code",
   "execution_count": 62,
   "id": "f6a0bbdb",
   "metadata": {},
   "outputs": [
    {
     "name": "stdout",
     "output_type": "stream",
     "text": [
      "R2 score:  0.40664149374723757\n",
      "R2_score on training data:  40.46964203780596\n",
      "Mean Absoloute Error:- 0.2317587830471198\n",
      "Mean Squared Error:- 0.09532068518958355\n",
      "Root Mean Squared Error:- 0.3087404819416844\n"
     ]
    }
   ],
   "source": [
    "from sklearn.svm import SVR\n",
    "svr=SVR()\n",
    "svr.fit(x_train,y_train)\n",
    "pred_SVR=svr.predict(x_test)\n",
    "pred_train=svr.predict(x_train)\n",
    "print('R2 score: ', r2_score(y_test,pred_SVR))\n",
    "print('R2_score on training data: ', r2_score(y_train,pred_train)*100)\n",
    "print('Mean Absoloute Error:-', mean_absolute_error(y_test,pred_SVR))\n",
    "print('Mean Squared Error:-', mean_squared_error(y_test,pred_SVR))\n",
    "print('Root Mean Squared Error:-', np.sqrt (mean_squared_error(y_test,pred_SVR)))"
   ]
  },
  {
   "cell_type": "code",
   "execution_count": 63,
   "id": "201f59cb",
   "metadata": {},
   "outputs": [
    {
     "name": "stdout",
     "output_type": "stream",
     "text": [
      "R2 score:  0.815055006120591\n",
      "R2_score on training data:  100.0\n",
      "Mean Absoloute Error:- 0.11746125585754452\n",
      "Mean Squared Error:- 0.029710678035613867\n",
      "Root Mean Squared Error:- 0.17236785673556965\n"
     ]
    }
   ],
   "source": [
    "from sklearn.ensemble import ExtraTreesRegressor\n",
    "\n",
    "etr=ExtraTreesRegressor()\n",
    "etr.fit(x_train,y_train)\n",
    "pred_ETR=etr.predict(x_test)\n",
    "pred_train=etr.predict(x_train)\n",
    "print('R2 score: ', r2_score(y_test,pred_ETR))\n",
    "print('R2_score on training data: ', r2_score(y_train,pred_train)*100)\n",
    "print('Mean Absoloute Error:-', mean_absolute_error(y_test,pred_ETR))\n",
    "print('Mean Squared Error:-', mean_squared_error(y_test,pred_ETR))\n",
    "print('Root Mean Squared Error:-', np.sqrt (mean_squared_error(y_test,pred_ETR)))"
   ]
  },
  {
   "cell_type": "code",
   "execution_count": 64,
   "id": "4708e084",
   "metadata": {},
   "outputs": [
    {
     "name": "stdout",
     "output_type": "stream",
     "text": [
      "[ -3.82689126  -0.56657981  -0.71477469  -0.30192223 -58.26040958]\n",
      "-12.734115516983547\n",
      "difference between r2 score and cross validation score is - 1353.5000351922142\n"
     ]
    }
   ],
   "source": [
    "from sklearn.model_selection import cross_val_score\n",
    "score=cross_val_score(lr,x,y)\n",
    "print(score)\n",
    "print(score.mean())\n",
    "print('difference between r2 score and cross validation score is -',(r2_score(y_test,pred_RFR)-score.mean())*100)"
   ]
  },
  {
   "cell_type": "code",
   "execution_count": 65,
   "id": "3ddbb1bf",
   "metadata": {},
   "outputs": [
    {
     "name": "stdout",
     "output_type": "stream",
     "text": [
      "[-1.14193351  0.18932864  0.28536874 -0.07639819 -0.26485232]\n",
      "-0.201697326240933\n",
      "difference between r2 score and cross validation score is - 100.258216117953\n"
     ]
    }
   ],
   "source": [
    "\n",
    "score2=cross_val_score(Knn,x,y)\n",
    "print(score2)\n",
    "print(score2.mean())\n",
    "print('difference between r2 score and cross validation score is -',(r2_score(y_test,pred_RFR)-score2.mean())*100)"
   ]
  },
  {
   "cell_type": "code",
   "execution_count": 66,
   "id": "0fb75e42",
   "metadata": {},
   "outputs": [
    {
     "name": "stdout",
     "output_type": "stream",
     "text": [
      "[-0.81610599  0.29384583  0.42290693  0.1206625  -0.02259166]\n",
      "-0.0002564773074748672\n",
      "difference between r2 score and cross validation score is - 80.1141312246072\n"
     ]
    }
   ],
   "source": [
    "score3=cross_val_score(GBR,x,y)\n",
    "print(score3)\n",
    "print(score3.mean())\n",
    "print('difference between r2 score and cross validation score is -',(r2_score(y_test,pred_RFR)-score3.mean())*100)"
   ]
  },
  {
   "cell_type": "code",
   "execution_count": 67,
   "id": "5e2e8ab8",
   "metadata": {},
   "outputs": [
    {
     "name": "stderr",
     "output_type": "stream",
     "text": [
      "C:\\Users\\ADMIN\\anaconda3\\lib\\site-packages\\sklearn\\linear_model\\_coordinate_descent.py:647: ConvergenceWarning: Objective did not converge. You might want to increase the number of iterations, check the scale of the features or consider increasing regularisation. Duality gap: 1.408e+02, tolerance: 2.279e-01\n",
      "  model = cd_fast.enet_coordinate_descent(\n",
      "C:\\Users\\ADMIN\\anaconda3\\lib\\site-packages\\sklearn\\linear_model\\_coordinate_descent.py:647: ConvergenceWarning: Objective did not converge. You might want to increase the number of iterations, check the scale of the features or consider increasing regularisation. Duality gap: 3.397e+02, tolerance: 2.363e-01\n",
      "  model = cd_fast.enet_coordinate_descent(\n",
      "C:\\Users\\ADMIN\\anaconda3\\lib\\site-packages\\sklearn\\linear_model\\_coordinate_descent.py:647: ConvergenceWarning: Objective did not converge. You might want to increase the number of iterations, check the scale of the features or consider increasing regularisation. Duality gap: 3.928e+01, tolerance: 2.418e-01\n",
      "  model = cd_fast.enet_coordinate_descent(\n",
      "C:\\Users\\ADMIN\\anaconda3\\lib\\site-packages\\sklearn\\linear_model\\_coordinate_descent.py:647: ConvergenceWarning: Objective did not converge. You might want to increase the number of iterations, check the scale of the features or consider increasing regularisation. Duality gap: 5.494e+01, tolerance: 2.296e-01\n",
      "  model = cd_fast.enet_coordinate_descent(\n"
     ]
    },
    {
     "name": "stdout",
     "output_type": "stream",
     "text": [
      "[-3.14100535 -0.54601654  0.07762155 -0.19109535 -0.56342921]\n",
      "-0.8727849798631148\n",
      "difference between r2 score and cross validation score is - 167.36698148017118\n"
     ]
    },
    {
     "name": "stderr",
     "output_type": "stream",
     "text": [
      "C:\\Users\\ADMIN\\anaconda3\\lib\\site-packages\\sklearn\\linear_model\\_coordinate_descent.py:647: ConvergenceWarning: Objective did not converge. You might want to increase the number of iterations, check the scale of the features or consider increasing regularisation. Duality gap: 1.075e+01, tolerance: 1.920e-01\n",
      "  model = cd_fast.enet_coordinate_descent(\n"
     ]
    }
   ],
   "source": [
    "score4=cross_val_score(lasso,x,y)\n",
    "print(score4)\n",
    "print(score4.mean())\n",
    "print('difference between r2 score and cross validation score is -',(r2_score(y_test,pred_RFR)-score4.mean())*100)"
   ]
  },
  {
   "cell_type": "code",
   "execution_count": 68,
   "id": "66f0a5ae",
   "metadata": {},
   "outputs": [
    {
     "name": "stdout",
     "output_type": "stream",
     "text": [
      "[ -3.82679998  -0.56620669  -0.71466843  -0.30191594 -52.61679014]\n",
      "-11.605276233626032\n",
      "difference between r2 score and cross validation score is - 1240.616106856463\n"
     ]
    }
   ],
   "source": [
    "\n",
    "score5=cross_val_score(rd,x,y)\n",
    "print(score5)\n",
    "print(score5.mean())\n",
    "print('difference between r2 score and cross validation score is -',(r2_score(y_test,pred_RFR)-score5.mean())*100)"
   ]
  },
  {
   "cell_type": "code",
   "execution_count": 69,
   "id": "117c750d",
   "metadata": {},
   "outputs": [
    {
     "name": "stdout",
     "output_type": "stream",
     "text": [
      "[-1.46797892 -0.41917371 -0.17402012 -0.53585605 -0.56078725]\n",
      "-0.6315632092011529\n",
      "difference between r2 score and cross validation score is - 143.244804413975\n"
     ]
    }
   ],
   "source": [
    "\n",
    "score6=cross_val_score(dtr,x,y)\n",
    "print(score6)\n",
    "print(score6.mean())\n",
    "print('difference between r2 score and cross validation score is -',(r2_score(y_test,pred_RFR)-score6.mean())*100)"
   ]
  },
  {
   "cell_type": "code",
   "execution_count": 70,
   "id": "88341ceb",
   "metadata": {},
   "outputs": [
    {
     "name": "stdout",
     "output_type": "stream",
     "text": [
      "[-0.87117388  0.16172454  0.40404721  0.01616365 -0.27994419]\n",
      "-0.11383653559888433\n",
      "difference between r2 score and cross validation score is - 91.47213705374814\n"
     ]
    }
   ],
   "source": [
    "score7=cross_val_score(svr,x,y)\n",
    "print(score7)\n",
    "print(score7.mean())\n",
    "print('difference between r2 score and cross validation score is -',(r2_score(y_test,pred_RFR)-score7.mean())*100)"
   ]
  },
  {
   "cell_type": "code",
   "execution_count": 71,
   "id": "2ba31202",
   "metadata": {},
   "outputs": [
    {
     "name": "stdout",
     "output_type": "stream",
     "text": [
      "[-1.08442032  0.23519988  0.39178823 -0.62486286 -0.08706011]\n",
      "-0.23387103652990016\n",
      "difference between r2 score and cross validation score is - 103.47558714684972\n"
     ]
    }
   ],
   "source": [
    "\n",
    "score8=cross_val_score(etr,x,y)\n",
    "print(score8)\n",
    "print(score8.mean())\n",
    "print('difference between r2 score and cross validation score is -',(r2_score(y_test,pred_RFR)-score8.mean())*100)"
   ]
  },
  {
   "cell_type": "code",
   "execution_count": 78,
   "id": "95d40a83",
   "metadata": {},
   "outputs": [
    {
     "name": "stderr",
     "output_type": "stream",
     "text": [
      "C:\\Users\\ADMIN\\anaconda3\\lib\\site-packages\\sklearn\\model_selection\\_validation.py:372: FitFailedWarning: \n",
      "720 fits failed out of a total of 1440.\n",
      "The score on these train-test partitions for these parameters will be set to nan.\n",
      "If these failures are not expected, you can try to debug them by setting error_score='raise'.\n",
      "\n",
      "Below are more details about the failures:\n",
      "--------------------------------------------------------------------------------\n",
      "120 fits failed with the following error:\n",
      "Traceback (most recent call last):\n",
      "  File \"C:\\Users\\ADMIN\\anaconda3\\lib\\site-packages\\sklearn\\model_selection\\_validation.py\", line 680, in _fit_and_score\n",
      "    estimator.fit(X_train, y_train, **fit_params)\n",
      "  File \"C:\\Users\\ADMIN\\anaconda3\\lib\\site-packages\\sklearn\\linear_model\\_ridge.py\", line 1011, in fit\n",
      "    return super().fit(X, y, sample_weight=sample_weight)\n",
      "  File \"C:\\Users\\ADMIN\\anaconda3\\lib\\site-packages\\sklearn\\linear_model\\_ridge.py\", line 782, in fit\n",
      "    self.coef_, self.n_iter_ = _ridge_regression(\n",
      "  File \"C:\\Users\\ADMIN\\anaconda3\\lib\\site-packages\\sklearn\\linear_model\\_ridge.py\", line 502, in _ridge_regression\n",
      "    raise ValueError(\n",
      "ValueError: Known solvers are 'sparse_cg', 'cholesky', 'svd' 'lsqr', 'sag', 'saga' or 'lbfgs'. Got cbfgs.\n",
      "\n",
      "--------------------------------------------------------------------------------\n",
      "120 fits failed with the following error:\n",
      "Traceback (most recent call last):\n",
      "  File \"C:\\Users\\ADMIN\\anaconda3\\lib\\site-packages\\sklearn\\model_selection\\_validation.py\", line 680, in _fit_and_score\n",
      "    estimator.fit(X_train, y_train, **fit_params)\n",
      "  File \"C:\\Users\\ADMIN\\anaconda3\\lib\\site-packages\\sklearn\\linear_model\\_ridge.py\", line 1011, in fit\n",
      "    return super().fit(X, y, sample_weight=sample_weight)\n",
      "  File \"C:\\Users\\ADMIN\\anaconda3\\lib\\site-packages\\sklearn\\linear_model\\_ridge.py\", line 712, in fit\n",
      "    raise ValueError(\n",
      "ValueError: solver='svd' does not support positive fitting. Please set the solver to 'auto' or 'lbfgs', or set `positive=False`\n",
      "\n",
      "--------------------------------------------------------------------------------\n",
      "120 fits failed with the following error:\n",
      "Traceback (most recent call last):\n",
      "  File \"C:\\Users\\ADMIN\\anaconda3\\lib\\site-packages\\sklearn\\model_selection\\_validation.py\", line 680, in _fit_and_score\n",
      "    estimator.fit(X_train, y_train, **fit_params)\n",
      "  File \"C:\\Users\\ADMIN\\anaconda3\\lib\\site-packages\\sklearn\\linear_model\\_ridge.py\", line 1011, in fit\n",
      "    return super().fit(X, y, sample_weight=sample_weight)\n",
      "  File \"C:\\Users\\ADMIN\\anaconda3\\lib\\site-packages\\sklearn\\linear_model\\_ridge.py\", line 712, in fit\n",
      "    raise ValueError(\n",
      "ValueError: solver='cholesky' does not support positive fitting. Please set the solver to 'auto' or 'lbfgs', or set `positive=False`\n",
      "\n",
      "--------------------------------------------------------------------------------\n",
      "120 fits failed with the following error:\n",
      "Traceback (most recent call last):\n",
      "  File \"C:\\Users\\ADMIN\\anaconda3\\lib\\site-packages\\sklearn\\model_selection\\_validation.py\", line 680, in _fit_and_score\n",
      "    estimator.fit(X_train, y_train, **fit_params)\n",
      "  File \"C:\\Users\\ADMIN\\anaconda3\\lib\\site-packages\\sklearn\\linear_model\\_ridge.py\", line 1011, in fit\n",
      "    return super().fit(X, y, sample_weight=sample_weight)\n",
      "  File \"C:\\Users\\ADMIN\\anaconda3\\lib\\site-packages\\sklearn\\linear_model\\_ridge.py\", line 712, in fit\n",
      "    raise ValueError(\n",
      "ValueError: solver='lsqr' does not support positive fitting. Please set the solver to 'auto' or 'lbfgs', or set `positive=False`\n",
      "\n",
      "--------------------------------------------------------------------------------\n",
      "120 fits failed with the following error:\n",
      "Traceback (most recent call last):\n",
      "  File \"C:\\Users\\ADMIN\\anaconda3\\lib\\site-packages\\sklearn\\model_selection\\_validation.py\", line 680, in _fit_and_score\n",
      "    estimator.fit(X_train, y_train, **fit_params)\n",
      "  File \"C:\\Users\\ADMIN\\anaconda3\\lib\\site-packages\\sklearn\\linear_model\\_ridge.py\", line 1011, in fit\n",
      "    return super().fit(X, y, sample_weight=sample_weight)\n",
      "  File \"C:\\Users\\ADMIN\\anaconda3\\lib\\site-packages\\sklearn\\linear_model\\_ridge.py\", line 712, in fit\n",
      "    raise ValueError(\n",
      "ValueError: solver='sag' does not support positive fitting. Please set the solver to 'auto' or 'lbfgs', or set `positive=False`\n",
      "\n",
      "--------------------------------------------------------------------------------\n",
      "120 fits failed with the following error:\n",
      "Traceback (most recent call last):\n",
      "  File \"C:\\Users\\ADMIN\\anaconda3\\lib\\site-packages\\sklearn\\model_selection\\_validation.py\", line 680, in _fit_and_score\n",
      "    estimator.fit(X_train, y_train, **fit_params)\n",
      "  File \"C:\\Users\\ADMIN\\anaconda3\\lib\\site-packages\\sklearn\\linear_model\\_ridge.py\", line 1011, in fit\n",
      "    return super().fit(X, y, sample_weight=sample_weight)\n",
      "  File \"C:\\Users\\ADMIN\\anaconda3\\lib\\site-packages\\sklearn\\linear_model\\_ridge.py\", line 712, in fit\n",
      "    raise ValueError(\n",
      "ValueError: solver='cbfgs' does not support positive fitting. Please set the solver to 'auto' or 'lbfgs', or set `positive=False`\n",
      "\n",
      "  warnings.warn(some_fits_failed_message, FitFailedWarning)\n",
      "C:\\Users\\ADMIN\\anaconda3\\lib\\site-packages\\sklearn\\model_selection\\_search.py:969: UserWarning: One or more of the test scores are non-finite: [ 1.35472217e-01  1.35472478e-01  1.35472217e-01  1.25114985e-01\n",
      "  1.25118548e-01             nan  1.35472217e-01  1.35472478e-01\n",
      "  1.35472217e-01  1.25114985e-01  1.25118701e-01             nan\n",
      "  1.35472217e-01  1.35472478e-01  1.35472217e-01  1.25114985e-01\n",
      "  1.25118486e-01             nan  1.35472217e-01  1.35472478e-01\n",
      "  1.35472217e-01  1.25114985e-01  1.25118628e-01             nan\n",
      "  1.12307574e-02             nan             nan             nan\n",
      "             nan             nan  1.12307574e-02             nan\n",
      "             nan             nan             nan             nan\n",
      "  1.12307574e-02             nan             nan             nan\n",
      "             nan             nan  1.12307574e-02             nan\n",
      "             nan             nan             nan             nan\n",
      "  1.24044414e-01  1.24044620e-01  1.24044414e-01  1.21491654e-03\n",
      " -5.99642039e+00             nan  1.24044414e-01  1.24044620e-01\n",
      "  1.24044414e-01  1.21491654e-03 -5.99645565e+00             nan\n",
      "  1.24044414e-01  1.24044620e-01  1.24044414e-01  1.21491654e-03\n",
      " -5.99641165e+00             nan  1.24044414e-01  1.24044620e-01\n",
      "  1.24044414e-01  1.21491654e-03 -5.99641657e+00             nan\n",
      " -1.09005456e+01             nan             nan             nan\n",
      "             nan             nan -1.09005456e+01             nan\n",
      "             nan             nan             nan             nan\n",
      " -1.09005456e+01             nan             nan             nan\n",
      "             nan             nan -1.09005456e+01             nan\n",
      "             nan             nan             nan             nan\n",
      "  1.35468781e-01  1.35468997e-01  1.35468781e-01  1.25114985e-01\n",
      "  1.25118548e-01             nan  1.35468781e-01  1.35468997e-01\n",
      "  1.35468781e-01  1.25114985e-01  1.25118701e-01             nan\n",
      "  1.35468781e-01  1.35468997e-01  1.35468781e-01  1.25114985e-01\n",
      "  1.25118486e-01             nan  1.35468781e-01  1.35468997e-01\n",
      "  1.35468781e-01  1.25114985e-01  1.25118628e-01             nan\n",
      "  1.12307470e-02             nan             nan             nan\n",
      "             nan             nan  1.12307470e-02             nan\n",
      "             nan             nan             nan             nan\n",
      "  1.12307470e-02             nan             nan             nan\n",
      "             nan             nan  1.12307470e-02             nan\n",
      "             nan             nan             nan             nan\n",
      "  1.24041386e-01  1.24041788e-01  1.24041386e-01  1.21491653e-03\n",
      " -5.99642039e+00             nan  1.24041386e-01  1.24041788e-01\n",
      "  1.24041386e-01  1.21491653e-03 -5.99645565e+00             nan\n",
      "  1.24041386e-01  1.24041788e-01  1.24041386e-01  1.21491653e-03\n",
      " -5.99641165e+00             nan  1.24041386e-01  1.24041788e-01\n",
      "  1.24041386e-01  1.21491653e-03 -5.99641657e+00             nan\n",
      " -1.09005456e+01             nan             nan             nan\n",
      "             nan             nan -1.09005456e+01             nan\n",
      "             nan             nan             nan             nan\n",
      " -1.09005456e+01             nan             nan             nan\n",
      "             nan             nan -1.09005456e+01             nan\n",
      "             nan             nan             nan             nan\n",
      "  1.35478063e-01  1.35478201e-01  1.35478063e-01  1.25114985e-01\n",
      "  1.25118548e-01             nan  1.35478063e-01  1.35478201e-01\n",
      "  1.35478063e-01  1.25114985e-01  1.25118701e-01             nan\n",
      "  1.35478063e-01  1.35478201e-01  1.35478063e-01  1.25114985e-01\n",
      "  1.25118486e-01             nan  1.35478063e-01  1.35478201e-01\n",
      "  1.35478063e-01  1.25114985e-01  1.25118628e-01             nan\n",
      "  1.12307904e-02             nan             nan             nan\n",
      "             nan             nan  1.12307904e-02             nan\n",
      "             nan             nan             nan             nan\n",
      "  1.12307904e-02             nan             nan             nan\n",
      "             nan             nan  1.12307904e-02             nan\n",
      "             nan             nan             nan             nan\n",
      "  1.24049362e-01  1.24049442e-01  1.24049362e-01  1.21491654e-03\n",
      " -5.99642039e+00             nan  1.24049362e-01  1.24049442e-01\n",
      "  1.24049362e-01  1.21491654e-03 -5.99645565e+00             nan\n",
      "  1.24049362e-01  1.24049442e-01  1.24049362e-01  1.21491654e-03\n",
      " -5.99641165e+00             nan  1.24049362e-01  1.24049442e-01\n",
      "  1.24049362e-01  1.21491654e-03 -5.99641657e+00             nan\n",
      " -1.09005456e+01             nan             nan             nan\n",
      "             nan             nan -1.09005456e+01             nan\n",
      "             nan             nan             nan             nan\n",
      " -1.09005456e+01             nan             nan             nan\n",
      "             nan             nan -1.09005456e+01             nan\n",
      "             nan             nan             nan             nan]\n",
      "  warnings.warn(\n"
     ]
    },
    {
     "data": {
      "text/plain": [
       "GridSearchCV(cv=5, estimator=Ridge(),\n",
       "             param_grid={'alpha': [1.0, 0.05, 4.2],\n",
       "                         'fit_intercept': [True, False],\n",
       "                         'positive': [False, True],\n",
       "                         'random_state': [1, 4, 10, 20],\n",
       "                         'solver': ['auto', 'svd', 'cholesky', 'lsqr', 'sag',\n",
       "                                    'cbfgs']})"
      ]
     },
     "execution_count": 78,
     "metadata": {},
     "output_type": "execute_result"
    }
   ],
   "source": [
    "from sklearn.model_selection import GridSearchCV\n",
    "from sklearn.linear_model import Ridge\n",
    "\n",
    "param = {\n",
    "    'alpha': [1.0, 0.05, 4.2],\n",
    "    'fit_intercept': [True, False],\n",
    "    'solver': ['auto', 'svd', 'cholesky', 'lsqr', 'sag', 'cbfgs'],\n",
    "    'positive': [False, True],\n",
    "    'random_state': [1, 4, 10, 20]\n",
    "}\n",
    "\n",
    "ridge = Ridge()\n",
    "gscv = GridSearchCV(ridge, param, cv=5)\n",
    "gscv.fit(x_train, y_train)"
   ]
  },
  {
   "cell_type": "code",
   "execution_count": 79,
   "id": "336d53eb",
   "metadata": {},
   "outputs": [
    {
     "name": "stdout",
     "output_type": "stream",
     "text": [
      "{'alpha': 4.2, 'fit_intercept': True, 'positive': False, 'random_state': 1, 'solver': 'svd'}\n"
     ]
    }
   ],
   "source": [
    "best_params = gscv.best_params_\n",
    "print(best_params)\n"
   ]
  },
  {
   "cell_type": "code",
   "execution_count": 80,
   "id": "3827dcd7",
   "metadata": {},
   "outputs": [
    {
     "name": "stdout",
     "output_type": "stream",
     "text": [
      "r2_score: 0.12680533182896203\n",
      "Mean Absolute Error: 0.3003279668856517\n",
      "Mean Squared Error: 0.14027525213988937\n",
      "Root Mean Squared Error: 0.374533379206566\n"
     ]
    }
   ],
   "source": [
    "from sklearn.metrics import r2_score, mean_absolute_error, mean_squared_error\n",
    "import numpy as np\n",
    "\n",
    "# Create and fit the Ridge model with the best parameters\n",
    "model = Ridge(alpha=0.05, fit_intercept=True, positive=False, random_state=1, solver='auto')\n",
    "model.fit(x_train, y_train)\n",
    "\n",
    "# Make predictions on the test data\n",
    "pred = model.predict(x_test)\n",
    "\n",
    "# Evaluate the model\n",
    "r2 = r2_score(y_test, pred)\n",
    "mae = mean_absolute_error(y_test, pred)\n",
    "mse = mean_squared_error(y_test, pred)\n",
    "rmse = np.sqrt(mse)\n",
    "\n",
    "# Print the evaluation metrics\n",
    "print('r2_score:', r2)\n",
    "print('Mean Absolute Error:', mae)\n",
    "print('Mean Squared Error:', mse)\n",
    "print('Root Mean Squared Error:', rmse)"
   ]
  },
  {
   "cell_type": "code",
   "execution_count": 81,
   "id": "02158e15",
   "metadata": {},
   "outputs": [
    {
     "name": "stdout",
     "output_type": "stream",
     "text": [
      "12.680533182896204\n",
      "       predicted  original\n",
      "877     1.415796      1.22\n",
      "17474   1.254434      1.64\n",
      "12217   1.471197      1.80\n",
      "9002    1.457058      1.34\n",
      "7744    1.496731      1.36\n",
      "...          ...       ...\n",
      "16756   1.519767      1.41\n",
      "952     1.286737      0.89\n",
      "10153   1.425500      1.81\n",
      "14266   1.472444      1.55\n",
      "16950   1.517789      1.97\n",
      "\n",
      "[5335 rows x 2 columns]\n"
     ]
    }
   ],
   "source": [
    "import joblib\n",
    "import pickle\n",
    "import pandas as pd\n",
    "\n",
    "# Save the model using joblib\n",
    "# joblib.dump(model, 'avocado.pkl')\n",
    "\n",
    "# Save the model using pickle\n",
    "filename = \"baseball.pkl\"\n",
    "pickle.dump(model, open(filename, 'wb'))\n",
    "\n",
    "# Load the model\n",
    "loaded_model = pickle.load(open('baseball.pkl', 'rb'))\n",
    "\n",
    "# Calculate the score on the test data\n",
    "result = loaded_model.score(x_test, y_test)\n",
    "print(result * 100)\n",
    "\n",
    "# Create a DataFrame for predictions and original values\n",
    "conclusion = pd.DataFrame({'predicted': loaded_model.predict(x_test), 'original': y_test})\n",
    "print(conclusion)"
   ]
  },
  {
   "cell_type": "code",
   "execution_count": null,
   "id": "b94f8458",
   "metadata": {},
   "outputs": [],
   "source": []
  }
 ],
 "metadata": {
  "kernelspec": {
   "display_name": "Python 3 (ipykernel)",
   "language": "python",
   "name": "python3"
  },
  "language_info": {
   "codemirror_mode": {
    "name": "ipython",
    "version": 3
   },
   "file_extension": ".py",
   "mimetype": "text/x-python",
   "name": "python",
   "nbconvert_exporter": "python",
   "pygments_lexer": "ipython3",
   "version": "3.9.13"
  }
 },
 "nbformat": 4,
 "nbformat_minor": 5
}
